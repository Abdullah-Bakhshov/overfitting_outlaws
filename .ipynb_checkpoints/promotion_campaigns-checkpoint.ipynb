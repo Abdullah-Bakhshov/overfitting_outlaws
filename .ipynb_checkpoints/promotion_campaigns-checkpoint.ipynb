{
 "cells": [
  {
   "metadata": {
    "ExecuteTime": {
     "end_time": "2024-06-07T13:23:02.056774Z",
     "start_time": "2024-06-07T13:23:02.045491Z"
    }
   },
   "cell_type": "code",
   "source": [
    "import pandas\n",
    "import csv\n",
    "import matplotlib as plt\n",
    "import plotly.graph_objects as go\n",
    "from plotly.subplots import make_subplots"
   ],
   "id": "c8d0d8eee00995f9",
   "outputs": [],
   "execution_count": 70
  },
  {
   "metadata": {},
   "cell_type": "markdown",
   "source": "# Loading and separating Dataframes",
   "id": "ad29cbefd3ba0843"
  },
  {
   "metadata": {
    "ExecuteTime": {
     "end_time": "2024-06-07T12:38:01.935852Z",
     "start_time": "2024-06-07T12:38:01.768841Z"
    }
   },
   "cell_type": "code",
   "source": [
    "superstore_df = pandas.read_csv('superstore.csv')\n",
    "superstore_df.head()"
   ],
   "id": "1213f4f83e3ac8e2",
   "outputs": [
    {
     "data": {
      "text/plain": [
       "   Row ID        Order ID  Order Date   Ship Date       Ship Mode Customer ID  \\\n",
       "0       1  US-2019-103800  2019/01/03  2019/01/07  Standard Class    DP-13000   \n",
       "1       2  US-2019-112326  2019/01/04  2019/01/08  Standard Class    PO-19195   \n",
       "2       3  US-2019-112326  2019/01/04  2019/01/08  Standard Class    PO-19195   \n",
       "3       4  US-2019-112326  2019/01/04  2019/01/08  Standard Class    PO-19195   \n",
       "4       5  US-2019-141817  2019/01/05  2019/01/12  Standard Class    MB-18085   \n",
       "\n",
       "   Customer Name      Segment        Country          City  ... Postal Code  \\\n",
       "0  Darren Powers     Consumer  United States       Houston  ...       77095   \n",
       "1  Phillina Ober  Home Office  United States    Naperville  ...       60540   \n",
       "2  Phillina Ober  Home Office  United States    Naperville  ...       60540   \n",
       "3  Phillina Ober  Home Office  United States    Naperville  ...       60540   \n",
       "4     Mick Brown     Consumer  United States  Philadelphia  ...       19143   \n",
       "\n",
       "    Region       Product ID         Category Sub-Category  \\\n",
       "0  Central  OFF-PA-10000174  Office Supplies        Paper   \n",
       "1  Central  OFF-BI-10004094  Office Supplies      Binders   \n",
       "2  Central  OFF-LA-10003223  Office Supplies       Labels   \n",
       "3  Central  OFF-ST-10002743  Office Supplies      Storage   \n",
       "4     East  OFF-AR-10003478  Office Supplies          Art   \n",
       "\n",
       "                                        Product Name    Sales  Quantity  \\\n",
       "0  Message Book, Wirebound, Four 5 1/2\" X 4\" Form...   16.448         2   \n",
       "1         GBC Standard Plastic Binding Systems Combs    3.540         2   \n",
       "2                                          Avery 508   11.784         3   \n",
       "3                      SAFCO Boltless Steel Shelving  272.736         3   \n",
       "4  Avery Hi-Liter EverBold Pen Style Fluorescent ...   19.536         3   \n",
       "\n",
       "   Discount   Profit  \n",
       "0       0.2   5.5512  \n",
       "1       0.8  -5.4870  \n",
       "2       0.2   4.2717  \n",
       "3       0.2 -64.7748  \n",
       "4       0.2   4.8840  \n",
       "\n",
       "[5 rows x 21 columns]"
      ],
      "text/html": [
       "<div>\n",
       "<style scoped>\n",
       "    .dataframe tbody tr th:only-of-type {\n",
       "        vertical-align: middle;\n",
       "    }\n",
       "\n",
       "    .dataframe tbody tr th {\n",
       "        vertical-align: top;\n",
       "    }\n",
       "\n",
       "    .dataframe thead th {\n",
       "        text-align: right;\n",
       "    }\n",
       "</style>\n",
       "<table border=\"1\" class=\"dataframe\">\n",
       "  <thead>\n",
       "    <tr style=\"text-align: right;\">\n",
       "      <th></th>\n",
       "      <th>Row ID</th>\n",
       "      <th>Order ID</th>\n",
       "      <th>Order Date</th>\n",
       "      <th>Ship Date</th>\n",
       "      <th>Ship Mode</th>\n",
       "      <th>Customer ID</th>\n",
       "      <th>Customer Name</th>\n",
       "      <th>Segment</th>\n",
       "      <th>Country</th>\n",
       "      <th>City</th>\n",
       "      <th>...</th>\n",
       "      <th>Postal Code</th>\n",
       "      <th>Region</th>\n",
       "      <th>Product ID</th>\n",
       "      <th>Category</th>\n",
       "      <th>Sub-Category</th>\n",
       "      <th>Product Name</th>\n",
       "      <th>Sales</th>\n",
       "      <th>Quantity</th>\n",
       "      <th>Discount</th>\n",
       "      <th>Profit</th>\n",
       "    </tr>\n",
       "  </thead>\n",
       "  <tbody>\n",
       "    <tr>\n",
       "      <th>0</th>\n",
       "      <td>1</td>\n",
       "      <td>US-2019-103800</td>\n",
       "      <td>2019/01/03</td>\n",
       "      <td>2019/01/07</td>\n",
       "      <td>Standard Class</td>\n",
       "      <td>DP-13000</td>\n",
       "      <td>Darren Powers</td>\n",
       "      <td>Consumer</td>\n",
       "      <td>United States</td>\n",
       "      <td>Houston</td>\n",
       "      <td>...</td>\n",
       "      <td>77095</td>\n",
       "      <td>Central</td>\n",
       "      <td>OFF-PA-10000174</td>\n",
       "      <td>Office Supplies</td>\n",
       "      <td>Paper</td>\n",
       "      <td>Message Book, Wirebound, Four 5 1/2\" X 4\" Form...</td>\n",
       "      <td>16.448</td>\n",
       "      <td>2</td>\n",
       "      <td>0.2</td>\n",
       "      <td>5.5512</td>\n",
       "    </tr>\n",
       "    <tr>\n",
       "      <th>1</th>\n",
       "      <td>2</td>\n",
       "      <td>US-2019-112326</td>\n",
       "      <td>2019/01/04</td>\n",
       "      <td>2019/01/08</td>\n",
       "      <td>Standard Class</td>\n",
       "      <td>PO-19195</td>\n",
       "      <td>Phillina Ober</td>\n",
       "      <td>Home Office</td>\n",
       "      <td>United States</td>\n",
       "      <td>Naperville</td>\n",
       "      <td>...</td>\n",
       "      <td>60540</td>\n",
       "      <td>Central</td>\n",
       "      <td>OFF-BI-10004094</td>\n",
       "      <td>Office Supplies</td>\n",
       "      <td>Binders</td>\n",
       "      <td>GBC Standard Plastic Binding Systems Combs</td>\n",
       "      <td>3.540</td>\n",
       "      <td>2</td>\n",
       "      <td>0.8</td>\n",
       "      <td>-5.4870</td>\n",
       "    </tr>\n",
       "    <tr>\n",
       "      <th>2</th>\n",
       "      <td>3</td>\n",
       "      <td>US-2019-112326</td>\n",
       "      <td>2019/01/04</td>\n",
       "      <td>2019/01/08</td>\n",
       "      <td>Standard Class</td>\n",
       "      <td>PO-19195</td>\n",
       "      <td>Phillina Ober</td>\n",
       "      <td>Home Office</td>\n",
       "      <td>United States</td>\n",
       "      <td>Naperville</td>\n",
       "      <td>...</td>\n",
       "      <td>60540</td>\n",
       "      <td>Central</td>\n",
       "      <td>OFF-LA-10003223</td>\n",
       "      <td>Office Supplies</td>\n",
       "      <td>Labels</td>\n",
       "      <td>Avery 508</td>\n",
       "      <td>11.784</td>\n",
       "      <td>3</td>\n",
       "      <td>0.2</td>\n",
       "      <td>4.2717</td>\n",
       "    </tr>\n",
       "    <tr>\n",
       "      <th>3</th>\n",
       "      <td>4</td>\n",
       "      <td>US-2019-112326</td>\n",
       "      <td>2019/01/04</td>\n",
       "      <td>2019/01/08</td>\n",
       "      <td>Standard Class</td>\n",
       "      <td>PO-19195</td>\n",
       "      <td>Phillina Ober</td>\n",
       "      <td>Home Office</td>\n",
       "      <td>United States</td>\n",
       "      <td>Naperville</td>\n",
       "      <td>...</td>\n",
       "      <td>60540</td>\n",
       "      <td>Central</td>\n",
       "      <td>OFF-ST-10002743</td>\n",
       "      <td>Office Supplies</td>\n",
       "      <td>Storage</td>\n",
       "      <td>SAFCO Boltless Steel Shelving</td>\n",
       "      <td>272.736</td>\n",
       "      <td>3</td>\n",
       "      <td>0.2</td>\n",
       "      <td>-64.7748</td>\n",
       "    </tr>\n",
       "    <tr>\n",
       "      <th>4</th>\n",
       "      <td>5</td>\n",
       "      <td>US-2019-141817</td>\n",
       "      <td>2019/01/05</td>\n",
       "      <td>2019/01/12</td>\n",
       "      <td>Standard Class</td>\n",
       "      <td>MB-18085</td>\n",
       "      <td>Mick Brown</td>\n",
       "      <td>Consumer</td>\n",
       "      <td>United States</td>\n",
       "      <td>Philadelphia</td>\n",
       "      <td>...</td>\n",
       "      <td>19143</td>\n",
       "      <td>East</td>\n",
       "      <td>OFF-AR-10003478</td>\n",
       "      <td>Office Supplies</td>\n",
       "      <td>Art</td>\n",
       "      <td>Avery Hi-Liter EverBold Pen Style Fluorescent ...</td>\n",
       "      <td>19.536</td>\n",
       "      <td>3</td>\n",
       "      <td>0.2</td>\n",
       "      <td>4.8840</td>\n",
       "    </tr>\n",
       "  </tbody>\n",
       "</table>\n",
       "<p>5 rows × 21 columns</p>\n",
       "</div>"
      ]
     },
     "execution_count": 2,
     "metadata": {},
     "output_type": "execute_result"
    }
   ],
   "execution_count": 2
  },
  {
   "metadata": {
    "ExecuteTime": {
     "end_time": "2024-06-07T12:43:08.742775Z",
     "start_time": "2024-06-07T12:43:08.733708Z"
    }
   },
   "cell_type": "code",
   "source": [
    "discount_products = superstore_df[superstore_df.Discount != 0]\n",
    "non_discount_products = superstore_df[superstore_df.Discount == 0]\n",
    "ordered_discount_products = discount_products.sort_values('Discount', ascending=False)"
   ],
   "id": "29594c82970c2dde",
   "outputs": [],
   "execution_count": 6
  },
  {
   "metadata": {
    "ExecuteTime": {
     "end_time": "2024-06-07T12:44:05.033765Z",
     "start_time": "2024-06-07T12:44:05.024034Z"
    }
   },
   "cell_type": "code",
   "source": [
    "ordered_discount_products = discount_products.sort_values('Discount', ascending=False)\n",
    "other"
   ],
   "id": "f701a4f7629a8494",
   "outputs": [],
   "execution_count": 7
  },
  {
   "metadata": {
    "ExecuteTime": {
     "end_time": "2024-06-07T13:00:17.122870Z",
     "start_time": "2024-06-07T13:00:17.090989Z"
    }
   },
   "cell_type": "code",
   "source": "discount_products.sort_values('Discount').head(50)",
   "id": "bfbad35cfa53ccb2",
   "outputs": [
    {
     "data": {
      "text/plain": [
       "       Row ID        Order ID  Order Date   Ship Date       Ship Mode  \\\n",
       "2189     2190  US-2020-109512  2020/03/05  2020/03/05        Same Day   \n",
       "1910     1911  US-2019-163412  2019/12/20  2019/12/23    Second Class   \n",
       "31950   31951  CA-2018-142734  2018/04/16  2018/04/21  Standard Class   \n",
       "25931   25932  US-2023-120355  2023/09/18  2023/09/25  Standard Class   \n",
       "23393   23394  US-2022-126977  2022/09/17  2022/09/23  Standard Class   \n",
       "31957   31958  CA-2018-136805  2018/05/23  2018/05/27    Second Class   \n",
       "2390     2391  US-2020-142734  2020/04/16  2020/04/21  Standard Class   \n",
       "16321   16322  CA-2016-124100  2016/03/31  2016/04/06  Standard Class   \n",
       "19513   19514  US-2017-108343  2017/07/20  2017/07/25  Standard Class   \n",
       "14475   14476  CA-2014-166989  2014/11/14  2014/11/18  Standard Class   \n",
       "22377   22378  US-2022-109512  2022/03/05  2022/03/05        Same Day   \n",
       "31975   31976  CA-2018-120782  2018/04/28  2018/05/01     First Class   \n",
       "8791     8792  US-2022-100111  2022/09/20  2022/09/26  Standard Class   \n",
       "14444   14445  CA-2014-168130  2014/09/19  2014/09/19        Same Day   \n",
       "8792     8793  US-2022-100111  2022/09/20  2022/09/26  Standard Class   \n",
       "8793     8794  US-2022-100111  2022/09/20  2022/09/26  Standard Class   \n",
       "8794     8795  US-2022-100111  2022/09/20  2022/09/26  Standard Class   \n",
       "15957   15958  CA-2015-162047  2015/11/03  2015/11/05     First Class   \n",
       "6842     6843  US-2022-159366  2022/01/07  2022/01/10     First Class   \n",
       "16325   16326  CA-2014-163447  2014/12/27  2014/12/31  Standard Class   \n",
       "4522     4523  US-2021-124100  2021/03/31  2021/04/06  Standard Class   \n",
       "10633   10634  CA-2017-157252  2017/01/20  2017/01/23    Second Class   \n",
       "12375   12376  CA-2016-128818  2016/05/07  2016/05/11  Standard Class   \n",
       "9321     9322  US-2022-102925  2022/11/05  2022/11/10    Second Class   \n",
       "22303   22304  US-2022-127327  2022/02/03  2022/02/07  Standard Class   \n",
       "26938   26939  US-2023-110975  2023/12/25  2023/12/30  Standard Class   \n",
       "10024   10025  US-2022-115602  2022/12/18  2022/12/24  Standard Class   \n",
       "559       560  US-2019-157070  2019/06/01  2019/06/06  Standard Class   \n",
       "7994     7995  US-2022-123638  2022/06/27  2022/07/04  Standard Class   \n",
       "16293   16294  CA-2017-100111  2017/09/20  2017/09/26  Standard Class   \n",
       "16295   16296  CA-2017-100111  2017/09/20  2017/09/26  Standard Class   \n",
       "19508   19509  CA-2015-111948  2015/11/11  2015/11/11        Same Day   \n",
       "28347   28348  US-2024-108343  2024/07/20  2024/07/25  Standard Class   \n",
       "29886   29887  US-2024-111689  2024/11/30  2024/12/02    Second Class   \n",
       "28982   28983  US-2024-100111  2024/09/20  2024/09/26  Standard Class   \n",
       "16955   16956  CA-2016-162943  2016/07/24  2016/07/26    Second Class   \n",
       "28981   28982  US-2024-100111  2024/09/20  2024/09/26  Standard Class   \n",
       "28980   28981  US-2024-100111  2024/09/20  2024/09/26  Standard Class   \n",
       "13508   13509  CA-2017-169978  2017/12/24  2017/12/28  Standard Class   \n",
       "28979   28980  US-2024-100111  2024/09/20  2024/09/26  Standard Class   \n",
       "24021   24022  US-2022-138009  2022/11/29  2022/12/03  Standard Class   \n",
       "12114   12115  US-2017-111423  2017/08/17  2017/08/19     First Class   \n",
       "5515     5516  US-2021-116526  2021/09/01  2021/09/05  Standard Class   \n",
       "17876   17877  CA-2015-120782  2015/04/28  2015/05/01     First Class   \n",
       "32009   32010  CA-2018-127327  2018/02/03  2018/02/07  Standard Class   \n",
       "9698     9699  US-2022-111689  2022/11/30  2022/12/02    Second Class   \n",
       "27030   27031  US-2024-159366  2024/01/07  2024/01/10     First Class   \n",
       "4557     4558  US-2021-120530  2021/04/07  2021/04/12  Standard Class   \n",
       "23733   23734  US-2022-160227  2022/11/02  2022/11/04     First Class   \n",
       "17818   17819  CA-2015-136805  2015/05/23  2015/05/27    Second Class   \n",
       "\n",
       "      Customer ID     Customer Name      Segment        Country  \\\n",
       "2189     LF-17185       Luke Foster     Consumer  United States   \n",
       "1910     SM-20950    Suzanne McNair    Corporate  United States   \n",
       "31950    DM-13345     Denise Monton    Corporate  United States   \n",
       "25931    MM-17260   Magdelene Morse     Consumer  United States   \n",
       "23393    PF-19120      Peter Fuller     Consumer  United States   \n",
       "31957    NM-18445      Nathan Mautz  Home Office  United States   \n",
       "2390     DM-13345     Denise Monton    Corporate  United States   \n",
       "16321    EH-13990     Erica Hackney     Consumer  United States   \n",
       "19513    AR-10825    Anthony Rawles    Corporate  United States   \n",
       "14475    RM-19675     Robert Marley  Home Office  United States   \n",
       "22377    LF-17185       Luke Foster     Consumer  United States   \n",
       "31975    SD-20485   Shirley Daniels  Home Office  United States   \n",
       "8791     SV-20365       Seth Vernon     Consumer  United States   \n",
       "14444    BS-11365      Bill Shonely    Corporate  United States   \n",
       "8792     SV-20365       Seth Vernon     Consumer  United States   \n",
       "8793     SV-20365       Seth Vernon     Consumer  United States   \n",
       "8794     SV-20365       Seth Vernon     Consumer  United States   \n",
       "15957    FH-14365      Fred Hopkins    Corporate  United States   \n",
       "6842     BW-11110      Bart Watters    Corporate  United States   \n",
       "16325    TB-21190    Thomas Brumley  Home Office  United States   \n",
       "4522     EH-13990     Erica Hackney     Consumer  United States   \n",
       "10633    CV-12805     Cynthia Voltz    Corporate  United States   \n",
       "12375    CJ-12010   Caroline Jumper     Consumer  United States   \n",
       "9321     CD-12280  Christina DeMoss     Consumer  United States   \n",
       "22303    PW-19030    Pauline Webber    Corporate  United States   \n",
       "26938    DB-12970       Darren Budd    Corporate  United States   \n",
       "10024    DJ-13630       Doug Jacobs     Consumer  United States   \n",
       "559      QJ-19255      Quincy Jones    Corporate  United States   \n",
       "7994     MA-17995   Michelle Arnett  Home Office  United States   \n",
       "16293    SV-20365       Seth Vernon     Consumer  United States   \n",
       "16295    SV-20365       Seth Vernon     Consumer  United States   \n",
       "19508    AG-10495   Andrew Gjertsen    Corporate  United States   \n",
       "28347    AR-10825    Anthony Rawles    Corporate  United States   \n",
       "29886    HP-14815     Harold Pawlan  Home Office  United States   \n",
       "28982    SV-20365       Seth Vernon     Consumer  United States   \n",
       "16955    DB-12970       Darren Budd    Corporate  United States   \n",
       "28981    SV-20365       Seth Vernon     Consumer  United States   \n",
       "28980    SV-20365       Seth Vernon     Consumer  United States   \n",
       "13508    HG-15025     Hunter Glantz     Consumer  United States   \n",
       "28979    SV-20365       Seth Vernon     Consumer  United States   \n",
       "24021    SF-20965   Sylvia Foulston    Corporate  United States   \n",
       "12114    EH-13765      Edward Hooks    Corporate  United States   \n",
       "5515     JA-15970      Joseph Airdo     Consumer  United States   \n",
       "17876    SD-20485   Shirley Daniels  Home Office  United States   \n",
       "32009    PW-19030    Pauline Webber    Corporate  United States   \n",
       "9698     HP-14815     Harold Pawlan  Home Office  United States   \n",
       "27030    BW-11110      Bart Watters    Corporate  United States   \n",
       "4557     Dl-13600      Dorris liebe    Corporate  United States   \n",
       "23733    ED-13885      Emily Ducich  Home Office  United States   \n",
       "17818    NM-18445      Nathan Mautz  Home Office  United States   \n",
       "\n",
       "                City  ... Postal Code   Region       Product ID  \\\n",
       "2189   New York City  ...       10011     East  FUR-CH-10001146   \n",
       "1910   New York City  ...       10035     East  FUR-CH-10004875   \n",
       "31950  New York City  ...       10024     East  FUR-CH-10003968   \n",
       "25931   New Rochelle  ...       10801     East  FUR-CH-10001394   \n",
       "23393  New York City  ...       10035     East  FUR-CH-10001973   \n",
       "31957        Detroit  ...       48234  Central  OFF-AP-10001394   \n",
       "2390   New York City  ...       10024     East  FUR-CH-10003968   \n",
       "16321  New York City  ...       10009     East  FUR-CH-10003817   \n",
       "19513  New York City  ...       10009     East  FUR-CH-10002780   \n",
       "14475  New York City  ...       10011     East  FUR-CH-10001797   \n",
       "22377  New York City  ...       10011     East  FUR-CH-10001146   \n",
       "31975        Midland  ...       48640  Central  OFF-AP-10003779   \n",
       "8791   New York City  ...       10035     East  FUR-CH-10001215   \n",
       "14444  New York City  ...       10011     East  FUR-CH-10000988   \n",
       "8792   New York City  ...       10035     East  FUR-CH-10003061   \n",
       "8793   New York City  ...       10035     East  FUR-CH-10003846   \n",
       "8794   New York City  ...       10035     East  FUR-CH-10004086   \n",
       "15957     Long Beach  ...       11561     East  FUR-CH-10004983   \n",
       "6842         Detroit  ...       48205  Central  TEC-MA-10000822   \n",
       "16325  New York City  ...       10011     East  FUR-CH-10004477   \n",
       "4522   New York City  ...       10009     East  FUR-CH-10003817   \n",
       "10633  New York City  ...       10024     East  FUR-CH-10003396   \n",
       "12375  New York City  ...       10009     East  FUR-CH-10002084   \n",
       "9321   New York City  ...       10024     East  FUR-CH-10004875   \n",
       "22303           Rome  ...       13440     East  FUR-CH-10004218   \n",
       "26938  New York City  ...       10024     East  FUR-CH-10003746   \n",
       "10024  New York City  ...       10009     East  FUR-CH-10001708   \n",
       "559          Detroit  ...       48234  Central  OFF-AP-10004859   \n",
       "7994       Watertown  ...       13601     East  FUR-CH-10002647   \n",
       "16293  New York City  ...       10035     East  FUR-CH-10004086   \n",
       "16295  New York City  ...       10035     East  FUR-CH-10001215   \n",
       "19508        Detroit  ...       48234  Central  OFF-AP-10002311   \n",
       "28347  New York City  ...       10009     East  FUR-CH-10002780   \n",
       "29886  New York City  ...       10024     East  FUR-CH-10004287   \n",
       "28982  New York City  ...       10035     East  FUR-CH-10004086   \n",
       "16955  New York City  ...       10035     East  FUR-CH-10001708   \n",
       "28981  New York City  ...       10035     East  FUR-CH-10003846   \n",
       "28980  New York City  ...       10035     East  FUR-CH-10003061   \n",
       "13508      Oceanside  ...       11572     East  FUR-CH-10002602   \n",
       "28979  New York City  ...       10035     East  FUR-CH-10001215   \n",
       "24021       Dearborn  ...       48126  Central  OFF-AP-10000179   \n",
       "12114      Watertown  ...       13601     East  FUR-CH-10003981   \n",
       "5515         Detroit  ...       48227  Central  OFF-AP-10002457   \n",
       "17876        Midland  ...       48640  Central  OFF-AP-10003779   \n",
       "32009           Rome  ...       13440     East  FUR-CH-10004218   \n",
       "9698   New York City  ...       10024     East  FUR-CH-10004287   \n",
       "27030        Detroit  ...       48205  Central  TEC-MA-10000822   \n",
       "4557   New York City  ...       10035     East  FUR-CH-10000454   \n",
       "23733  New York City  ...       10011     East  FUR-CH-10002073   \n",
       "17818        Detroit  ...       48234  Central  OFF-AP-10001394   \n",
       "\n",
       "              Category Sub-Category  \\\n",
       "2189         Furniture       Chairs   \n",
       "1910         Furniture       Chairs   \n",
       "31950        Furniture       Chairs   \n",
       "25931        Furniture       Chairs   \n",
       "23393        Furniture       Chairs   \n",
       "31957  Office Supplies   Appliances   \n",
       "2390         Furniture       Chairs   \n",
       "16321        Furniture       Chairs   \n",
       "19513        Furniture       Chairs   \n",
       "14475        Furniture       Chairs   \n",
       "22377        Furniture       Chairs   \n",
       "31975  Office Supplies   Appliances   \n",
       "8791         Furniture       Chairs   \n",
       "14444        Furniture       Chairs   \n",
       "8792         Furniture       Chairs   \n",
       "8793         Furniture       Chairs   \n",
       "8794         Furniture       Chairs   \n",
       "15957        Furniture       Chairs   \n",
       "6842        Technology     Machines   \n",
       "16325        Furniture       Chairs   \n",
       "4522         Furniture       Chairs   \n",
       "10633        Furniture       Chairs   \n",
       "12375        Furniture       Chairs   \n",
       "9321         Furniture       Chairs   \n",
       "22303        Furniture       Chairs   \n",
       "26938        Furniture       Chairs   \n",
       "10024        Furniture       Chairs   \n",
       "559    Office Supplies   Appliances   \n",
       "7994         Furniture       Chairs   \n",
       "16293        Furniture       Chairs   \n",
       "16295        Furniture       Chairs   \n",
       "19508  Office Supplies   Appliances   \n",
       "28347        Furniture       Chairs   \n",
       "29886        Furniture       Chairs   \n",
       "28982        Furniture       Chairs   \n",
       "16955        Furniture       Chairs   \n",
       "28981        Furniture       Chairs   \n",
       "28980        Furniture       Chairs   \n",
       "13508        Furniture       Chairs   \n",
       "28979        Furniture       Chairs   \n",
       "24021  Office Supplies   Appliances   \n",
       "12114        Furniture       Chairs   \n",
       "5515   Office Supplies   Appliances   \n",
       "17876  Office Supplies   Appliances   \n",
       "32009        Furniture       Chairs   \n",
       "9698         Furniture       Chairs   \n",
       "27030       Technology     Machines   \n",
       "4557         Furniture       Chairs   \n",
       "23733        Furniture       Chairs   \n",
       "17818  Office Supplies   Appliances   \n",
       "\n",
       "                                            Product Name     Sales  Quantity  \\\n",
       "2189         Global Value Mid-Back Manager's Chair, Gray   383.607         7   \n",
       "1910      Harbour Creations 67200 Series Stacking Chairs   192.186         3   \n",
       "31950                           Novimex Turbo Task Chair   127.764         2   \n",
       "25931                     Global Leather Executive Chair   631.782         2   \n",
       "23393  Office Star Flex Back Scooter Chair with White...   199.764         2   \n",
       "31957                               Harmony Air Purifier   850.500         5   \n",
       "2390                            Novimex Turbo Task Chair   127.764         2   \n",
       "16321                     Global Value Steno Chair, Gray   327.996         6   \n",
       "19513  Office Star - Task Chair with Contemporary Loo...   163.764         2   \n",
       "14475                   Safco Chair Connectors, 6/Carton    69.264         2   \n",
       "22377        Global Value Mid-Back Manager's Chair, Gray   383.607         7   \n",
       "31975  Kensington 7 Outlet MasterPiece Power Center w...   186.732         1   \n",
       "8791       Global Troy Executive Leather Low-Back Tilter  2254.410         5   \n",
       "14444                           Hon Olson Stacker Stools   887.103         7   \n",
       "8792                    Global Leather Task Chair, Black    80.991         1   \n",
       "8793                          Hon Valutask Swivel Chairs   272.646         3   \n",
       "8794   Hon 4070 Series Pagoda Armless Upholstered Sta...  2888.127        11   \n",
       "15957  Office Star - Mid Back Dual function Ergonomic...  1448.820        10   \n",
       "6842           Lexmark MX611dhe Monochrome Laser Printer  3059.982         2   \n",
       "16325         Global Push Button Manager's Chair, Indigo   767.214        14   \n",
       "4522                      Global Value Steno Chair, Gray   327.996         6   \n",
       "10633                          Global Deluxe Steno Chair   207.846         3   \n",
       "12375                        Hon Mobius Operator's Chair   442.764         4   \n",
       "9321      Harbour Creations 67200 Series Stacking Chairs   128.124         2   \n",
       "22303           Global Fabric Manager's Chair, Dark Gray    90.882         1   \n",
       "26938  Hon 4070 Series Pagoda Round Back Stacking Chairs   866.646         3   \n",
       "10024  Office Star - Contemporary Swivel Chair with P...  1141.938         9   \n",
       "559      Acco 6 Outlet Guardian Premium Surge Suppressor    65.520         5   \n",
       "7994          Situations Contoured Folding Chairs, 4/Set   191.646         3   \n",
       "16293  Hon 4070 Series Pagoda Armless Upholstered Sta...  2888.127        11   \n",
       "16295      Global Troy Executive Leather Low-Back Tilter  2254.410         5   \n",
       "19508  Holmes Replacement Filter for HEPA Air Cleaner...   123.858         2   \n",
       "28347  Office Star - Task Chair with Contemporary Loo...   163.764         2   \n",
       "29886                           SAFCO Arco Folding Chair  1242.900         5   \n",
       "28982  Hon 4070 Series Pagoda Armless Upholstered Sta...  2888.127        11   \n",
       "16955  Office Star - Contemporary Swivel Chair with P...   253.764         2   \n",
       "28981                         Hon Valutask Swivel Chairs   272.646         3   \n",
       "28980                   Global Leather Task Chair, Black    80.991         1   \n",
       "13508  DMI Arturo Collection Mission-style Design Woo...   271.764         2   \n",
       "28979      Global Troy Executive Leather Low-Back Tilter  2254.410         5   \n",
       "24021  Honeywell Enviracaire Portable HEPA Air Cleane...   555.210         5   \n",
       "12114  Global Commerce Series Low-Back Swivel/Tilt Ch...   462.564         2   \n",
       "5515   Eureka The Boss Plus 12-Amp Hard Box Upright V...   376.740         4   \n",
       "17876  Kensington 7 Outlet MasterPiece Power Center w...   186.732         1   \n",
       "32009           Global Fabric Manager's Chair, Dark Gray    90.882         1   \n",
       "9698                            SAFCO Arco Folding Chair  1242.900         5   \n",
       "27030          Lexmark MX611dhe Monochrome Laser Printer  3059.982         2   \n",
       "4557   Hon Deluxe Fabric Upholstered Stacking Chairs,...   658.746         3   \n",
       "23733                           Hon Olson Stacker Chairs  2621.322        11   \n",
       "17818                               Harmony Air Purifier   850.500         5   \n",
       "\n",
       "       Discount    Profit  \n",
       "2189        0.1   63.9345  \n",
       "1910        0.1   36.3018  \n",
       "31950       0.1    2.8392  \n",
       "25931       0.1  140.3960  \n",
       "23393       0.1    8.8784  \n",
       "31957       0.1  245.7000  \n",
       "2390        0.1    2.8392  \n",
       "16321       0.1   54.6660  \n",
       "19513       0.1   25.4744  \n",
       "14475       0.1   14.6224  \n",
       "22377       0.1   63.9345  \n",
       "31975       0.1   41.4960  \n",
       "8791        0.1  375.7350  \n",
       "14444       0.1  177.4206  \n",
       "8792        0.1    8.0991  \n",
       "8793        0.1   18.1764  \n",
       "8794        0.1  609.7157  \n",
       "15957       0.1  209.2740  \n",
       "6842        0.1  679.9960  \n",
       "16325       0.1  161.9674  \n",
       "4522        0.1   54.6660  \n",
       "10633       0.1    2.3094  \n",
       "12375       0.1   59.0352  \n",
       "9321        0.1   24.2012  \n",
       "22303       0.1   15.1470  \n",
       "26938       0.1  173.3292  \n",
       "10024       0.1  139.5702  \n",
       "559         0.1   12.3760  \n",
       "7994        0.1   31.9410  \n",
       "16293       0.1  609.7157  \n",
       "16295       0.1  375.7350  \n",
       "19508       0.1   46.7908  \n",
       "28347       0.1   25.4744  \n",
       "29886       0.1  262.3900  \n",
       "28982       0.1  609.7157  \n",
       "16955       0.1   31.0156  \n",
       "28981       0.1   18.1764  \n",
       "28980       0.1    8.0991  \n",
       "13508       0.1   48.3136  \n",
       "28979       0.1  375.7350  \n",
       "24021       0.1  178.9010  \n",
       "12114       0.1   97.6524  \n",
       "5515        0.1   71.1620  \n",
       "17876       0.1   41.4960  \n",
       "32009       0.1   15.1470  \n",
       "9698        0.1  262.3900  \n",
       "27030       0.1  679.9960  \n",
       "4557        0.1  146.3880  \n",
       "23733       0.1  553.3902  \n",
       "17818       0.1  245.7000  \n",
       "\n",
       "[50 rows x 21 columns]"
      ],
      "text/html": [
       "<div>\n",
       "<style scoped>\n",
       "    .dataframe tbody tr th:only-of-type {\n",
       "        vertical-align: middle;\n",
       "    }\n",
       "\n",
       "    .dataframe tbody tr th {\n",
       "        vertical-align: top;\n",
       "    }\n",
       "\n",
       "    .dataframe thead th {\n",
       "        text-align: right;\n",
       "    }\n",
       "</style>\n",
       "<table border=\"1\" class=\"dataframe\">\n",
       "  <thead>\n",
       "    <tr style=\"text-align: right;\">\n",
       "      <th></th>\n",
       "      <th>Row ID</th>\n",
       "      <th>Order ID</th>\n",
       "      <th>Order Date</th>\n",
       "      <th>Ship Date</th>\n",
       "      <th>Ship Mode</th>\n",
       "      <th>Customer ID</th>\n",
       "      <th>Customer Name</th>\n",
       "      <th>Segment</th>\n",
       "      <th>Country</th>\n",
       "      <th>City</th>\n",
       "      <th>...</th>\n",
       "      <th>Postal Code</th>\n",
       "      <th>Region</th>\n",
       "      <th>Product ID</th>\n",
       "      <th>Category</th>\n",
       "      <th>Sub-Category</th>\n",
       "      <th>Product Name</th>\n",
       "      <th>Sales</th>\n",
       "      <th>Quantity</th>\n",
       "      <th>Discount</th>\n",
       "      <th>Profit</th>\n",
       "    </tr>\n",
       "  </thead>\n",
       "  <tbody>\n",
       "    <tr>\n",
       "      <th>2189</th>\n",
       "      <td>2190</td>\n",
       "      <td>US-2020-109512</td>\n",
       "      <td>2020/03/05</td>\n",
       "      <td>2020/03/05</td>\n",
       "      <td>Same Day</td>\n",
       "      <td>LF-17185</td>\n",
       "      <td>Luke Foster</td>\n",
       "      <td>Consumer</td>\n",
       "      <td>United States</td>\n",
       "      <td>New York City</td>\n",
       "      <td>...</td>\n",
       "      <td>10011</td>\n",
       "      <td>East</td>\n",
       "      <td>FUR-CH-10001146</td>\n",
       "      <td>Furniture</td>\n",
       "      <td>Chairs</td>\n",
       "      <td>Global Value Mid-Back Manager's Chair, Gray</td>\n",
       "      <td>383.607</td>\n",
       "      <td>7</td>\n",
       "      <td>0.1</td>\n",
       "      <td>63.9345</td>\n",
       "    </tr>\n",
       "    <tr>\n",
       "      <th>1910</th>\n",
       "      <td>1911</td>\n",
       "      <td>US-2019-163412</td>\n",
       "      <td>2019/12/20</td>\n",
       "      <td>2019/12/23</td>\n",
       "      <td>Second Class</td>\n",
       "      <td>SM-20950</td>\n",
       "      <td>Suzanne McNair</td>\n",
       "      <td>Corporate</td>\n",
       "      <td>United States</td>\n",
       "      <td>New York City</td>\n",
       "      <td>...</td>\n",
       "      <td>10035</td>\n",
       "      <td>East</td>\n",
       "      <td>FUR-CH-10004875</td>\n",
       "      <td>Furniture</td>\n",
       "      <td>Chairs</td>\n",
       "      <td>Harbour Creations 67200 Series Stacking Chairs</td>\n",
       "      <td>192.186</td>\n",
       "      <td>3</td>\n",
       "      <td>0.1</td>\n",
       "      <td>36.3018</td>\n",
       "    </tr>\n",
       "    <tr>\n",
       "      <th>31950</th>\n",
       "      <td>31951</td>\n",
       "      <td>CA-2018-142734</td>\n",
       "      <td>2018/04/16</td>\n",
       "      <td>2018/04/21</td>\n",
       "      <td>Standard Class</td>\n",
       "      <td>DM-13345</td>\n",
       "      <td>Denise Monton</td>\n",
       "      <td>Corporate</td>\n",
       "      <td>United States</td>\n",
       "      <td>New York City</td>\n",
       "      <td>...</td>\n",
       "      <td>10024</td>\n",
       "      <td>East</td>\n",
       "      <td>FUR-CH-10003968</td>\n",
       "      <td>Furniture</td>\n",
       "      <td>Chairs</td>\n",
       "      <td>Novimex Turbo Task Chair</td>\n",
       "      <td>127.764</td>\n",
       "      <td>2</td>\n",
       "      <td>0.1</td>\n",
       "      <td>2.8392</td>\n",
       "    </tr>\n",
       "    <tr>\n",
       "      <th>25931</th>\n",
       "      <td>25932</td>\n",
       "      <td>US-2023-120355</td>\n",
       "      <td>2023/09/18</td>\n",
       "      <td>2023/09/25</td>\n",
       "      <td>Standard Class</td>\n",
       "      <td>MM-17260</td>\n",
       "      <td>Magdelene Morse</td>\n",
       "      <td>Consumer</td>\n",
       "      <td>United States</td>\n",
       "      <td>New Rochelle</td>\n",
       "      <td>...</td>\n",
       "      <td>10801</td>\n",
       "      <td>East</td>\n",
       "      <td>FUR-CH-10001394</td>\n",
       "      <td>Furniture</td>\n",
       "      <td>Chairs</td>\n",
       "      <td>Global Leather Executive Chair</td>\n",
       "      <td>631.782</td>\n",
       "      <td>2</td>\n",
       "      <td>0.1</td>\n",
       "      <td>140.3960</td>\n",
       "    </tr>\n",
       "    <tr>\n",
       "      <th>23393</th>\n",
       "      <td>23394</td>\n",
       "      <td>US-2022-126977</td>\n",
       "      <td>2022/09/17</td>\n",
       "      <td>2022/09/23</td>\n",
       "      <td>Standard Class</td>\n",
       "      <td>PF-19120</td>\n",
       "      <td>Peter Fuller</td>\n",
       "      <td>Consumer</td>\n",
       "      <td>United States</td>\n",
       "      <td>New York City</td>\n",
       "      <td>...</td>\n",
       "      <td>10035</td>\n",
       "      <td>East</td>\n",
       "      <td>FUR-CH-10001973</td>\n",
       "      <td>Furniture</td>\n",
       "      <td>Chairs</td>\n",
       "      <td>Office Star Flex Back Scooter Chair with White...</td>\n",
       "      <td>199.764</td>\n",
       "      <td>2</td>\n",
       "      <td>0.1</td>\n",
       "      <td>8.8784</td>\n",
       "    </tr>\n",
       "    <tr>\n",
       "      <th>31957</th>\n",
       "      <td>31958</td>\n",
       "      <td>CA-2018-136805</td>\n",
       "      <td>2018/05/23</td>\n",
       "      <td>2018/05/27</td>\n",
       "      <td>Second Class</td>\n",
       "      <td>NM-18445</td>\n",
       "      <td>Nathan Mautz</td>\n",
       "      <td>Home Office</td>\n",
       "      <td>United States</td>\n",
       "      <td>Detroit</td>\n",
       "      <td>...</td>\n",
       "      <td>48234</td>\n",
       "      <td>Central</td>\n",
       "      <td>OFF-AP-10001394</td>\n",
       "      <td>Office Supplies</td>\n",
       "      <td>Appliances</td>\n",
       "      <td>Harmony Air Purifier</td>\n",
       "      <td>850.500</td>\n",
       "      <td>5</td>\n",
       "      <td>0.1</td>\n",
       "      <td>245.7000</td>\n",
       "    </tr>\n",
       "    <tr>\n",
       "      <th>2390</th>\n",
       "      <td>2391</td>\n",
       "      <td>US-2020-142734</td>\n",
       "      <td>2020/04/16</td>\n",
       "      <td>2020/04/21</td>\n",
       "      <td>Standard Class</td>\n",
       "      <td>DM-13345</td>\n",
       "      <td>Denise Monton</td>\n",
       "      <td>Corporate</td>\n",
       "      <td>United States</td>\n",
       "      <td>New York City</td>\n",
       "      <td>...</td>\n",
       "      <td>10024</td>\n",
       "      <td>East</td>\n",
       "      <td>FUR-CH-10003968</td>\n",
       "      <td>Furniture</td>\n",
       "      <td>Chairs</td>\n",
       "      <td>Novimex Turbo Task Chair</td>\n",
       "      <td>127.764</td>\n",
       "      <td>2</td>\n",
       "      <td>0.1</td>\n",
       "      <td>2.8392</td>\n",
       "    </tr>\n",
       "    <tr>\n",
       "      <th>16321</th>\n",
       "      <td>16322</td>\n",
       "      <td>CA-2016-124100</td>\n",
       "      <td>2016/03/31</td>\n",
       "      <td>2016/04/06</td>\n",
       "      <td>Standard Class</td>\n",
       "      <td>EH-13990</td>\n",
       "      <td>Erica Hackney</td>\n",
       "      <td>Consumer</td>\n",
       "      <td>United States</td>\n",
       "      <td>New York City</td>\n",
       "      <td>...</td>\n",
       "      <td>10009</td>\n",
       "      <td>East</td>\n",
       "      <td>FUR-CH-10003817</td>\n",
       "      <td>Furniture</td>\n",
       "      <td>Chairs</td>\n",
       "      <td>Global Value Steno Chair, Gray</td>\n",
       "      <td>327.996</td>\n",
       "      <td>6</td>\n",
       "      <td>0.1</td>\n",
       "      <td>54.6660</td>\n",
       "    </tr>\n",
       "    <tr>\n",
       "      <th>19513</th>\n",
       "      <td>19514</td>\n",
       "      <td>US-2017-108343</td>\n",
       "      <td>2017/07/20</td>\n",
       "      <td>2017/07/25</td>\n",
       "      <td>Standard Class</td>\n",
       "      <td>AR-10825</td>\n",
       "      <td>Anthony Rawles</td>\n",
       "      <td>Corporate</td>\n",
       "      <td>United States</td>\n",
       "      <td>New York City</td>\n",
       "      <td>...</td>\n",
       "      <td>10009</td>\n",
       "      <td>East</td>\n",
       "      <td>FUR-CH-10002780</td>\n",
       "      <td>Furniture</td>\n",
       "      <td>Chairs</td>\n",
       "      <td>Office Star - Task Chair with Contemporary Loo...</td>\n",
       "      <td>163.764</td>\n",
       "      <td>2</td>\n",
       "      <td>0.1</td>\n",
       "      <td>25.4744</td>\n",
       "    </tr>\n",
       "    <tr>\n",
       "      <th>14475</th>\n",
       "      <td>14476</td>\n",
       "      <td>CA-2014-166989</td>\n",
       "      <td>2014/11/14</td>\n",
       "      <td>2014/11/18</td>\n",
       "      <td>Standard Class</td>\n",
       "      <td>RM-19675</td>\n",
       "      <td>Robert Marley</td>\n",
       "      <td>Home Office</td>\n",
       "      <td>United States</td>\n",
       "      <td>New York City</td>\n",
       "      <td>...</td>\n",
       "      <td>10011</td>\n",
       "      <td>East</td>\n",
       "      <td>FUR-CH-10001797</td>\n",
       "      <td>Furniture</td>\n",
       "      <td>Chairs</td>\n",
       "      <td>Safco Chair Connectors, 6/Carton</td>\n",
       "      <td>69.264</td>\n",
       "      <td>2</td>\n",
       "      <td>0.1</td>\n",
       "      <td>14.6224</td>\n",
       "    </tr>\n",
       "    <tr>\n",
       "      <th>22377</th>\n",
       "      <td>22378</td>\n",
       "      <td>US-2022-109512</td>\n",
       "      <td>2022/03/05</td>\n",
       "      <td>2022/03/05</td>\n",
       "      <td>Same Day</td>\n",
       "      <td>LF-17185</td>\n",
       "      <td>Luke Foster</td>\n",
       "      <td>Consumer</td>\n",
       "      <td>United States</td>\n",
       "      <td>New York City</td>\n",
       "      <td>...</td>\n",
       "      <td>10011</td>\n",
       "      <td>East</td>\n",
       "      <td>FUR-CH-10001146</td>\n",
       "      <td>Furniture</td>\n",
       "      <td>Chairs</td>\n",
       "      <td>Global Value Mid-Back Manager's Chair, Gray</td>\n",
       "      <td>383.607</td>\n",
       "      <td>7</td>\n",
       "      <td>0.1</td>\n",
       "      <td>63.9345</td>\n",
       "    </tr>\n",
       "    <tr>\n",
       "      <th>31975</th>\n",
       "      <td>31976</td>\n",
       "      <td>CA-2018-120782</td>\n",
       "      <td>2018/04/28</td>\n",
       "      <td>2018/05/01</td>\n",
       "      <td>First Class</td>\n",
       "      <td>SD-20485</td>\n",
       "      <td>Shirley Daniels</td>\n",
       "      <td>Home Office</td>\n",
       "      <td>United States</td>\n",
       "      <td>Midland</td>\n",
       "      <td>...</td>\n",
       "      <td>48640</td>\n",
       "      <td>Central</td>\n",
       "      <td>OFF-AP-10003779</td>\n",
       "      <td>Office Supplies</td>\n",
       "      <td>Appliances</td>\n",
       "      <td>Kensington 7 Outlet MasterPiece Power Center w...</td>\n",
       "      <td>186.732</td>\n",
       "      <td>1</td>\n",
       "      <td>0.1</td>\n",
       "      <td>41.4960</td>\n",
       "    </tr>\n",
       "    <tr>\n",
       "      <th>8791</th>\n",
       "      <td>8792</td>\n",
       "      <td>US-2022-100111</td>\n",
       "      <td>2022/09/20</td>\n",
       "      <td>2022/09/26</td>\n",
       "      <td>Standard Class</td>\n",
       "      <td>SV-20365</td>\n",
       "      <td>Seth Vernon</td>\n",
       "      <td>Consumer</td>\n",
       "      <td>United States</td>\n",
       "      <td>New York City</td>\n",
       "      <td>...</td>\n",
       "      <td>10035</td>\n",
       "      <td>East</td>\n",
       "      <td>FUR-CH-10001215</td>\n",
       "      <td>Furniture</td>\n",
       "      <td>Chairs</td>\n",
       "      <td>Global Troy Executive Leather Low-Back Tilter</td>\n",
       "      <td>2254.410</td>\n",
       "      <td>5</td>\n",
       "      <td>0.1</td>\n",
       "      <td>375.7350</td>\n",
       "    </tr>\n",
       "    <tr>\n",
       "      <th>14444</th>\n",
       "      <td>14445</td>\n",
       "      <td>CA-2014-168130</td>\n",
       "      <td>2014/09/19</td>\n",
       "      <td>2014/09/19</td>\n",
       "      <td>Same Day</td>\n",
       "      <td>BS-11365</td>\n",
       "      <td>Bill Shonely</td>\n",
       "      <td>Corporate</td>\n",
       "      <td>United States</td>\n",
       "      <td>New York City</td>\n",
       "      <td>...</td>\n",
       "      <td>10011</td>\n",
       "      <td>East</td>\n",
       "      <td>FUR-CH-10000988</td>\n",
       "      <td>Furniture</td>\n",
       "      <td>Chairs</td>\n",
       "      <td>Hon Olson Stacker Stools</td>\n",
       "      <td>887.103</td>\n",
       "      <td>7</td>\n",
       "      <td>0.1</td>\n",
       "      <td>177.4206</td>\n",
       "    </tr>\n",
       "    <tr>\n",
       "      <th>8792</th>\n",
       "      <td>8793</td>\n",
       "      <td>US-2022-100111</td>\n",
       "      <td>2022/09/20</td>\n",
       "      <td>2022/09/26</td>\n",
       "      <td>Standard Class</td>\n",
       "      <td>SV-20365</td>\n",
       "      <td>Seth Vernon</td>\n",
       "      <td>Consumer</td>\n",
       "      <td>United States</td>\n",
       "      <td>New York City</td>\n",
       "      <td>...</td>\n",
       "      <td>10035</td>\n",
       "      <td>East</td>\n",
       "      <td>FUR-CH-10003061</td>\n",
       "      <td>Furniture</td>\n",
       "      <td>Chairs</td>\n",
       "      <td>Global Leather Task Chair, Black</td>\n",
       "      <td>80.991</td>\n",
       "      <td>1</td>\n",
       "      <td>0.1</td>\n",
       "      <td>8.0991</td>\n",
       "    </tr>\n",
       "    <tr>\n",
       "      <th>8793</th>\n",
       "      <td>8794</td>\n",
       "      <td>US-2022-100111</td>\n",
       "      <td>2022/09/20</td>\n",
       "      <td>2022/09/26</td>\n",
       "      <td>Standard Class</td>\n",
       "      <td>SV-20365</td>\n",
       "      <td>Seth Vernon</td>\n",
       "      <td>Consumer</td>\n",
       "      <td>United States</td>\n",
       "      <td>New York City</td>\n",
       "      <td>...</td>\n",
       "      <td>10035</td>\n",
       "      <td>East</td>\n",
       "      <td>FUR-CH-10003846</td>\n",
       "      <td>Furniture</td>\n",
       "      <td>Chairs</td>\n",
       "      <td>Hon Valutask Swivel Chairs</td>\n",
       "      <td>272.646</td>\n",
       "      <td>3</td>\n",
       "      <td>0.1</td>\n",
       "      <td>18.1764</td>\n",
       "    </tr>\n",
       "    <tr>\n",
       "      <th>8794</th>\n",
       "      <td>8795</td>\n",
       "      <td>US-2022-100111</td>\n",
       "      <td>2022/09/20</td>\n",
       "      <td>2022/09/26</td>\n",
       "      <td>Standard Class</td>\n",
       "      <td>SV-20365</td>\n",
       "      <td>Seth Vernon</td>\n",
       "      <td>Consumer</td>\n",
       "      <td>United States</td>\n",
       "      <td>New York City</td>\n",
       "      <td>...</td>\n",
       "      <td>10035</td>\n",
       "      <td>East</td>\n",
       "      <td>FUR-CH-10004086</td>\n",
       "      <td>Furniture</td>\n",
       "      <td>Chairs</td>\n",
       "      <td>Hon 4070 Series Pagoda Armless Upholstered Sta...</td>\n",
       "      <td>2888.127</td>\n",
       "      <td>11</td>\n",
       "      <td>0.1</td>\n",
       "      <td>609.7157</td>\n",
       "    </tr>\n",
       "    <tr>\n",
       "      <th>15957</th>\n",
       "      <td>15958</td>\n",
       "      <td>CA-2015-162047</td>\n",
       "      <td>2015/11/03</td>\n",
       "      <td>2015/11/05</td>\n",
       "      <td>First Class</td>\n",
       "      <td>FH-14365</td>\n",
       "      <td>Fred Hopkins</td>\n",
       "      <td>Corporate</td>\n",
       "      <td>United States</td>\n",
       "      <td>Long Beach</td>\n",
       "      <td>...</td>\n",
       "      <td>11561</td>\n",
       "      <td>East</td>\n",
       "      <td>FUR-CH-10004983</td>\n",
       "      <td>Furniture</td>\n",
       "      <td>Chairs</td>\n",
       "      <td>Office Star - Mid Back Dual function Ergonomic...</td>\n",
       "      <td>1448.820</td>\n",
       "      <td>10</td>\n",
       "      <td>0.1</td>\n",
       "      <td>209.2740</td>\n",
       "    </tr>\n",
       "    <tr>\n",
       "      <th>6842</th>\n",
       "      <td>6843</td>\n",
       "      <td>US-2022-159366</td>\n",
       "      <td>2022/01/07</td>\n",
       "      <td>2022/01/10</td>\n",
       "      <td>First Class</td>\n",
       "      <td>BW-11110</td>\n",
       "      <td>Bart Watters</td>\n",
       "      <td>Corporate</td>\n",
       "      <td>United States</td>\n",
       "      <td>Detroit</td>\n",
       "      <td>...</td>\n",
       "      <td>48205</td>\n",
       "      <td>Central</td>\n",
       "      <td>TEC-MA-10000822</td>\n",
       "      <td>Technology</td>\n",
       "      <td>Machines</td>\n",
       "      <td>Lexmark MX611dhe Monochrome Laser Printer</td>\n",
       "      <td>3059.982</td>\n",
       "      <td>2</td>\n",
       "      <td>0.1</td>\n",
       "      <td>679.9960</td>\n",
       "    </tr>\n",
       "    <tr>\n",
       "      <th>16325</th>\n",
       "      <td>16326</td>\n",
       "      <td>CA-2014-163447</td>\n",
       "      <td>2014/12/27</td>\n",
       "      <td>2014/12/31</td>\n",
       "      <td>Standard Class</td>\n",
       "      <td>TB-21190</td>\n",
       "      <td>Thomas Brumley</td>\n",
       "      <td>Home Office</td>\n",
       "      <td>United States</td>\n",
       "      <td>New York City</td>\n",
       "      <td>...</td>\n",
       "      <td>10011</td>\n",
       "      <td>East</td>\n",
       "      <td>FUR-CH-10004477</td>\n",
       "      <td>Furniture</td>\n",
       "      <td>Chairs</td>\n",
       "      <td>Global Push Button Manager's Chair, Indigo</td>\n",
       "      <td>767.214</td>\n",
       "      <td>14</td>\n",
       "      <td>0.1</td>\n",
       "      <td>161.9674</td>\n",
       "    </tr>\n",
       "    <tr>\n",
       "      <th>4522</th>\n",
       "      <td>4523</td>\n",
       "      <td>US-2021-124100</td>\n",
       "      <td>2021/03/31</td>\n",
       "      <td>2021/04/06</td>\n",
       "      <td>Standard Class</td>\n",
       "      <td>EH-13990</td>\n",
       "      <td>Erica Hackney</td>\n",
       "      <td>Consumer</td>\n",
       "      <td>United States</td>\n",
       "      <td>New York City</td>\n",
       "      <td>...</td>\n",
       "      <td>10009</td>\n",
       "      <td>East</td>\n",
       "      <td>FUR-CH-10003817</td>\n",
       "      <td>Furniture</td>\n",
       "      <td>Chairs</td>\n",
       "      <td>Global Value Steno Chair, Gray</td>\n",
       "      <td>327.996</td>\n",
       "      <td>6</td>\n",
       "      <td>0.1</td>\n",
       "      <td>54.6660</td>\n",
       "    </tr>\n",
       "    <tr>\n",
       "      <th>10633</th>\n",
       "      <td>10634</td>\n",
       "      <td>CA-2017-157252</td>\n",
       "      <td>2017/01/20</td>\n",
       "      <td>2017/01/23</td>\n",
       "      <td>Second Class</td>\n",
       "      <td>CV-12805</td>\n",
       "      <td>Cynthia Voltz</td>\n",
       "      <td>Corporate</td>\n",
       "      <td>United States</td>\n",
       "      <td>New York City</td>\n",
       "      <td>...</td>\n",
       "      <td>10024</td>\n",
       "      <td>East</td>\n",
       "      <td>FUR-CH-10003396</td>\n",
       "      <td>Furniture</td>\n",
       "      <td>Chairs</td>\n",
       "      <td>Global Deluxe Steno Chair</td>\n",
       "      <td>207.846</td>\n",
       "      <td>3</td>\n",
       "      <td>0.1</td>\n",
       "      <td>2.3094</td>\n",
       "    </tr>\n",
       "    <tr>\n",
       "      <th>12375</th>\n",
       "      <td>12376</td>\n",
       "      <td>CA-2016-128818</td>\n",
       "      <td>2016/05/07</td>\n",
       "      <td>2016/05/11</td>\n",
       "      <td>Standard Class</td>\n",
       "      <td>CJ-12010</td>\n",
       "      <td>Caroline Jumper</td>\n",
       "      <td>Consumer</td>\n",
       "      <td>United States</td>\n",
       "      <td>New York City</td>\n",
       "      <td>...</td>\n",
       "      <td>10009</td>\n",
       "      <td>East</td>\n",
       "      <td>FUR-CH-10002084</td>\n",
       "      <td>Furniture</td>\n",
       "      <td>Chairs</td>\n",
       "      <td>Hon Mobius Operator's Chair</td>\n",
       "      <td>442.764</td>\n",
       "      <td>4</td>\n",
       "      <td>0.1</td>\n",
       "      <td>59.0352</td>\n",
       "    </tr>\n",
       "    <tr>\n",
       "      <th>9321</th>\n",
       "      <td>9322</td>\n",
       "      <td>US-2022-102925</td>\n",
       "      <td>2022/11/05</td>\n",
       "      <td>2022/11/10</td>\n",
       "      <td>Second Class</td>\n",
       "      <td>CD-12280</td>\n",
       "      <td>Christina DeMoss</td>\n",
       "      <td>Consumer</td>\n",
       "      <td>United States</td>\n",
       "      <td>New York City</td>\n",
       "      <td>...</td>\n",
       "      <td>10024</td>\n",
       "      <td>East</td>\n",
       "      <td>FUR-CH-10004875</td>\n",
       "      <td>Furniture</td>\n",
       "      <td>Chairs</td>\n",
       "      <td>Harbour Creations 67200 Series Stacking Chairs</td>\n",
       "      <td>128.124</td>\n",
       "      <td>2</td>\n",
       "      <td>0.1</td>\n",
       "      <td>24.2012</td>\n",
       "    </tr>\n",
       "    <tr>\n",
       "      <th>22303</th>\n",
       "      <td>22304</td>\n",
       "      <td>US-2022-127327</td>\n",
       "      <td>2022/02/03</td>\n",
       "      <td>2022/02/07</td>\n",
       "      <td>Standard Class</td>\n",
       "      <td>PW-19030</td>\n",
       "      <td>Pauline Webber</td>\n",
       "      <td>Corporate</td>\n",
       "      <td>United States</td>\n",
       "      <td>Rome</td>\n",
       "      <td>...</td>\n",
       "      <td>13440</td>\n",
       "      <td>East</td>\n",
       "      <td>FUR-CH-10004218</td>\n",
       "      <td>Furniture</td>\n",
       "      <td>Chairs</td>\n",
       "      <td>Global Fabric Manager's Chair, Dark Gray</td>\n",
       "      <td>90.882</td>\n",
       "      <td>1</td>\n",
       "      <td>0.1</td>\n",
       "      <td>15.1470</td>\n",
       "    </tr>\n",
       "    <tr>\n",
       "      <th>26938</th>\n",
       "      <td>26939</td>\n",
       "      <td>US-2023-110975</td>\n",
       "      <td>2023/12/25</td>\n",
       "      <td>2023/12/30</td>\n",
       "      <td>Standard Class</td>\n",
       "      <td>DB-12970</td>\n",
       "      <td>Darren Budd</td>\n",
       "      <td>Corporate</td>\n",
       "      <td>United States</td>\n",
       "      <td>New York City</td>\n",
       "      <td>...</td>\n",
       "      <td>10024</td>\n",
       "      <td>East</td>\n",
       "      <td>FUR-CH-10003746</td>\n",
       "      <td>Furniture</td>\n",
       "      <td>Chairs</td>\n",
       "      <td>Hon 4070 Series Pagoda Round Back Stacking Chairs</td>\n",
       "      <td>866.646</td>\n",
       "      <td>3</td>\n",
       "      <td>0.1</td>\n",
       "      <td>173.3292</td>\n",
       "    </tr>\n",
       "    <tr>\n",
       "      <th>10024</th>\n",
       "      <td>10025</td>\n",
       "      <td>US-2022-115602</td>\n",
       "      <td>2022/12/18</td>\n",
       "      <td>2022/12/24</td>\n",
       "      <td>Standard Class</td>\n",
       "      <td>DJ-13630</td>\n",
       "      <td>Doug Jacobs</td>\n",
       "      <td>Consumer</td>\n",
       "      <td>United States</td>\n",
       "      <td>New York City</td>\n",
       "      <td>...</td>\n",
       "      <td>10009</td>\n",
       "      <td>East</td>\n",
       "      <td>FUR-CH-10001708</td>\n",
       "      <td>Furniture</td>\n",
       "      <td>Chairs</td>\n",
       "      <td>Office Star - Contemporary Swivel Chair with P...</td>\n",
       "      <td>1141.938</td>\n",
       "      <td>9</td>\n",
       "      <td>0.1</td>\n",
       "      <td>139.5702</td>\n",
       "    </tr>\n",
       "    <tr>\n",
       "      <th>559</th>\n",
       "      <td>560</td>\n",
       "      <td>US-2019-157070</td>\n",
       "      <td>2019/06/01</td>\n",
       "      <td>2019/06/06</td>\n",
       "      <td>Standard Class</td>\n",
       "      <td>QJ-19255</td>\n",
       "      <td>Quincy Jones</td>\n",
       "      <td>Corporate</td>\n",
       "      <td>United States</td>\n",
       "      <td>Detroit</td>\n",
       "      <td>...</td>\n",
       "      <td>48234</td>\n",
       "      <td>Central</td>\n",
       "      <td>OFF-AP-10004859</td>\n",
       "      <td>Office Supplies</td>\n",
       "      <td>Appliances</td>\n",
       "      <td>Acco 6 Outlet Guardian Premium Surge Suppressor</td>\n",
       "      <td>65.520</td>\n",
       "      <td>5</td>\n",
       "      <td>0.1</td>\n",
       "      <td>12.3760</td>\n",
       "    </tr>\n",
       "    <tr>\n",
       "      <th>7994</th>\n",
       "      <td>7995</td>\n",
       "      <td>US-2022-123638</td>\n",
       "      <td>2022/06/27</td>\n",
       "      <td>2022/07/04</td>\n",
       "      <td>Standard Class</td>\n",
       "      <td>MA-17995</td>\n",
       "      <td>Michelle Arnett</td>\n",
       "      <td>Home Office</td>\n",
       "      <td>United States</td>\n",
       "      <td>Watertown</td>\n",
       "      <td>...</td>\n",
       "      <td>13601</td>\n",
       "      <td>East</td>\n",
       "      <td>FUR-CH-10002647</td>\n",
       "      <td>Furniture</td>\n",
       "      <td>Chairs</td>\n",
       "      <td>Situations Contoured Folding Chairs, 4/Set</td>\n",
       "      <td>191.646</td>\n",
       "      <td>3</td>\n",
       "      <td>0.1</td>\n",
       "      <td>31.9410</td>\n",
       "    </tr>\n",
       "    <tr>\n",
       "      <th>16293</th>\n",
       "      <td>16294</td>\n",
       "      <td>CA-2017-100111</td>\n",
       "      <td>2017/09/20</td>\n",
       "      <td>2017/09/26</td>\n",
       "      <td>Standard Class</td>\n",
       "      <td>SV-20365</td>\n",
       "      <td>Seth Vernon</td>\n",
       "      <td>Consumer</td>\n",
       "      <td>United States</td>\n",
       "      <td>New York City</td>\n",
       "      <td>...</td>\n",
       "      <td>10035</td>\n",
       "      <td>East</td>\n",
       "      <td>FUR-CH-10004086</td>\n",
       "      <td>Furniture</td>\n",
       "      <td>Chairs</td>\n",
       "      <td>Hon 4070 Series Pagoda Armless Upholstered Sta...</td>\n",
       "      <td>2888.127</td>\n",
       "      <td>11</td>\n",
       "      <td>0.1</td>\n",
       "      <td>609.7157</td>\n",
       "    </tr>\n",
       "    <tr>\n",
       "      <th>16295</th>\n",
       "      <td>16296</td>\n",
       "      <td>CA-2017-100111</td>\n",
       "      <td>2017/09/20</td>\n",
       "      <td>2017/09/26</td>\n",
       "      <td>Standard Class</td>\n",
       "      <td>SV-20365</td>\n",
       "      <td>Seth Vernon</td>\n",
       "      <td>Consumer</td>\n",
       "      <td>United States</td>\n",
       "      <td>New York City</td>\n",
       "      <td>...</td>\n",
       "      <td>10035</td>\n",
       "      <td>East</td>\n",
       "      <td>FUR-CH-10001215</td>\n",
       "      <td>Furniture</td>\n",
       "      <td>Chairs</td>\n",
       "      <td>Global Troy Executive Leather Low-Back Tilter</td>\n",
       "      <td>2254.410</td>\n",
       "      <td>5</td>\n",
       "      <td>0.1</td>\n",
       "      <td>375.7350</td>\n",
       "    </tr>\n",
       "    <tr>\n",
       "      <th>19508</th>\n",
       "      <td>19509</td>\n",
       "      <td>CA-2015-111948</td>\n",
       "      <td>2015/11/11</td>\n",
       "      <td>2015/11/11</td>\n",
       "      <td>Same Day</td>\n",
       "      <td>AG-10495</td>\n",
       "      <td>Andrew Gjertsen</td>\n",
       "      <td>Corporate</td>\n",
       "      <td>United States</td>\n",
       "      <td>Detroit</td>\n",
       "      <td>...</td>\n",
       "      <td>48234</td>\n",
       "      <td>Central</td>\n",
       "      <td>OFF-AP-10002311</td>\n",
       "      <td>Office Supplies</td>\n",
       "      <td>Appliances</td>\n",
       "      <td>Holmes Replacement Filter for HEPA Air Cleaner...</td>\n",
       "      <td>123.858</td>\n",
       "      <td>2</td>\n",
       "      <td>0.1</td>\n",
       "      <td>46.7908</td>\n",
       "    </tr>\n",
       "    <tr>\n",
       "      <th>28347</th>\n",
       "      <td>28348</td>\n",
       "      <td>US-2024-108343</td>\n",
       "      <td>2024/07/20</td>\n",
       "      <td>2024/07/25</td>\n",
       "      <td>Standard Class</td>\n",
       "      <td>AR-10825</td>\n",
       "      <td>Anthony Rawles</td>\n",
       "      <td>Corporate</td>\n",
       "      <td>United States</td>\n",
       "      <td>New York City</td>\n",
       "      <td>...</td>\n",
       "      <td>10009</td>\n",
       "      <td>East</td>\n",
       "      <td>FUR-CH-10002780</td>\n",
       "      <td>Furniture</td>\n",
       "      <td>Chairs</td>\n",
       "      <td>Office Star - Task Chair with Contemporary Loo...</td>\n",
       "      <td>163.764</td>\n",
       "      <td>2</td>\n",
       "      <td>0.1</td>\n",
       "      <td>25.4744</td>\n",
       "    </tr>\n",
       "    <tr>\n",
       "      <th>29886</th>\n",
       "      <td>29887</td>\n",
       "      <td>US-2024-111689</td>\n",
       "      <td>2024/11/30</td>\n",
       "      <td>2024/12/02</td>\n",
       "      <td>Second Class</td>\n",
       "      <td>HP-14815</td>\n",
       "      <td>Harold Pawlan</td>\n",
       "      <td>Home Office</td>\n",
       "      <td>United States</td>\n",
       "      <td>New York City</td>\n",
       "      <td>...</td>\n",
       "      <td>10024</td>\n",
       "      <td>East</td>\n",
       "      <td>FUR-CH-10004287</td>\n",
       "      <td>Furniture</td>\n",
       "      <td>Chairs</td>\n",
       "      <td>SAFCO Arco Folding Chair</td>\n",
       "      <td>1242.900</td>\n",
       "      <td>5</td>\n",
       "      <td>0.1</td>\n",
       "      <td>262.3900</td>\n",
       "    </tr>\n",
       "    <tr>\n",
       "      <th>28982</th>\n",
       "      <td>28983</td>\n",
       "      <td>US-2024-100111</td>\n",
       "      <td>2024/09/20</td>\n",
       "      <td>2024/09/26</td>\n",
       "      <td>Standard Class</td>\n",
       "      <td>SV-20365</td>\n",
       "      <td>Seth Vernon</td>\n",
       "      <td>Consumer</td>\n",
       "      <td>United States</td>\n",
       "      <td>New York City</td>\n",
       "      <td>...</td>\n",
       "      <td>10035</td>\n",
       "      <td>East</td>\n",
       "      <td>FUR-CH-10004086</td>\n",
       "      <td>Furniture</td>\n",
       "      <td>Chairs</td>\n",
       "      <td>Hon 4070 Series Pagoda Armless Upholstered Sta...</td>\n",
       "      <td>2888.127</td>\n",
       "      <td>11</td>\n",
       "      <td>0.1</td>\n",
       "      <td>609.7157</td>\n",
       "    </tr>\n",
       "    <tr>\n",
       "      <th>16955</th>\n",
       "      <td>16956</td>\n",
       "      <td>CA-2016-162943</td>\n",
       "      <td>2016/07/24</td>\n",
       "      <td>2016/07/26</td>\n",
       "      <td>Second Class</td>\n",
       "      <td>DB-12970</td>\n",
       "      <td>Darren Budd</td>\n",
       "      <td>Corporate</td>\n",
       "      <td>United States</td>\n",
       "      <td>New York City</td>\n",
       "      <td>...</td>\n",
       "      <td>10035</td>\n",
       "      <td>East</td>\n",
       "      <td>FUR-CH-10001708</td>\n",
       "      <td>Furniture</td>\n",
       "      <td>Chairs</td>\n",
       "      <td>Office Star - Contemporary Swivel Chair with P...</td>\n",
       "      <td>253.764</td>\n",
       "      <td>2</td>\n",
       "      <td>0.1</td>\n",
       "      <td>31.0156</td>\n",
       "    </tr>\n",
       "    <tr>\n",
       "      <th>28981</th>\n",
       "      <td>28982</td>\n",
       "      <td>US-2024-100111</td>\n",
       "      <td>2024/09/20</td>\n",
       "      <td>2024/09/26</td>\n",
       "      <td>Standard Class</td>\n",
       "      <td>SV-20365</td>\n",
       "      <td>Seth Vernon</td>\n",
       "      <td>Consumer</td>\n",
       "      <td>United States</td>\n",
       "      <td>New York City</td>\n",
       "      <td>...</td>\n",
       "      <td>10035</td>\n",
       "      <td>East</td>\n",
       "      <td>FUR-CH-10003846</td>\n",
       "      <td>Furniture</td>\n",
       "      <td>Chairs</td>\n",
       "      <td>Hon Valutask Swivel Chairs</td>\n",
       "      <td>272.646</td>\n",
       "      <td>3</td>\n",
       "      <td>0.1</td>\n",
       "      <td>18.1764</td>\n",
       "    </tr>\n",
       "    <tr>\n",
       "      <th>28980</th>\n",
       "      <td>28981</td>\n",
       "      <td>US-2024-100111</td>\n",
       "      <td>2024/09/20</td>\n",
       "      <td>2024/09/26</td>\n",
       "      <td>Standard Class</td>\n",
       "      <td>SV-20365</td>\n",
       "      <td>Seth Vernon</td>\n",
       "      <td>Consumer</td>\n",
       "      <td>United States</td>\n",
       "      <td>New York City</td>\n",
       "      <td>...</td>\n",
       "      <td>10035</td>\n",
       "      <td>East</td>\n",
       "      <td>FUR-CH-10003061</td>\n",
       "      <td>Furniture</td>\n",
       "      <td>Chairs</td>\n",
       "      <td>Global Leather Task Chair, Black</td>\n",
       "      <td>80.991</td>\n",
       "      <td>1</td>\n",
       "      <td>0.1</td>\n",
       "      <td>8.0991</td>\n",
       "    </tr>\n",
       "    <tr>\n",
       "      <th>13508</th>\n",
       "      <td>13509</td>\n",
       "      <td>CA-2017-169978</td>\n",
       "      <td>2017/12/24</td>\n",
       "      <td>2017/12/28</td>\n",
       "      <td>Standard Class</td>\n",
       "      <td>HG-15025</td>\n",
       "      <td>Hunter Glantz</td>\n",
       "      <td>Consumer</td>\n",
       "      <td>United States</td>\n",
       "      <td>Oceanside</td>\n",
       "      <td>...</td>\n",
       "      <td>11572</td>\n",
       "      <td>East</td>\n",
       "      <td>FUR-CH-10002602</td>\n",
       "      <td>Furniture</td>\n",
       "      <td>Chairs</td>\n",
       "      <td>DMI Arturo Collection Mission-style Design Woo...</td>\n",
       "      <td>271.764</td>\n",
       "      <td>2</td>\n",
       "      <td>0.1</td>\n",
       "      <td>48.3136</td>\n",
       "    </tr>\n",
       "    <tr>\n",
       "      <th>28979</th>\n",
       "      <td>28980</td>\n",
       "      <td>US-2024-100111</td>\n",
       "      <td>2024/09/20</td>\n",
       "      <td>2024/09/26</td>\n",
       "      <td>Standard Class</td>\n",
       "      <td>SV-20365</td>\n",
       "      <td>Seth Vernon</td>\n",
       "      <td>Consumer</td>\n",
       "      <td>United States</td>\n",
       "      <td>New York City</td>\n",
       "      <td>...</td>\n",
       "      <td>10035</td>\n",
       "      <td>East</td>\n",
       "      <td>FUR-CH-10001215</td>\n",
       "      <td>Furniture</td>\n",
       "      <td>Chairs</td>\n",
       "      <td>Global Troy Executive Leather Low-Back Tilter</td>\n",
       "      <td>2254.410</td>\n",
       "      <td>5</td>\n",
       "      <td>0.1</td>\n",
       "      <td>375.7350</td>\n",
       "    </tr>\n",
       "    <tr>\n",
       "      <th>24021</th>\n",
       "      <td>24022</td>\n",
       "      <td>US-2022-138009</td>\n",
       "      <td>2022/11/29</td>\n",
       "      <td>2022/12/03</td>\n",
       "      <td>Standard Class</td>\n",
       "      <td>SF-20965</td>\n",
       "      <td>Sylvia Foulston</td>\n",
       "      <td>Corporate</td>\n",
       "      <td>United States</td>\n",
       "      <td>Dearborn</td>\n",
       "      <td>...</td>\n",
       "      <td>48126</td>\n",
       "      <td>Central</td>\n",
       "      <td>OFF-AP-10000179</td>\n",
       "      <td>Office Supplies</td>\n",
       "      <td>Appliances</td>\n",
       "      <td>Honeywell Enviracaire Portable HEPA Air Cleane...</td>\n",
       "      <td>555.210</td>\n",
       "      <td>5</td>\n",
       "      <td>0.1</td>\n",
       "      <td>178.9010</td>\n",
       "    </tr>\n",
       "    <tr>\n",
       "      <th>12114</th>\n",
       "      <td>12115</td>\n",
       "      <td>US-2017-111423</td>\n",
       "      <td>2017/08/17</td>\n",
       "      <td>2017/08/19</td>\n",
       "      <td>First Class</td>\n",
       "      <td>EH-13765</td>\n",
       "      <td>Edward Hooks</td>\n",
       "      <td>Corporate</td>\n",
       "      <td>United States</td>\n",
       "      <td>Watertown</td>\n",
       "      <td>...</td>\n",
       "      <td>13601</td>\n",
       "      <td>East</td>\n",
       "      <td>FUR-CH-10003981</td>\n",
       "      <td>Furniture</td>\n",
       "      <td>Chairs</td>\n",
       "      <td>Global Commerce Series Low-Back Swivel/Tilt Ch...</td>\n",
       "      <td>462.564</td>\n",
       "      <td>2</td>\n",
       "      <td>0.1</td>\n",
       "      <td>97.6524</td>\n",
       "    </tr>\n",
       "    <tr>\n",
       "      <th>5515</th>\n",
       "      <td>5516</td>\n",
       "      <td>US-2021-116526</td>\n",
       "      <td>2021/09/01</td>\n",
       "      <td>2021/09/05</td>\n",
       "      <td>Standard Class</td>\n",
       "      <td>JA-15970</td>\n",
       "      <td>Joseph Airdo</td>\n",
       "      <td>Consumer</td>\n",
       "      <td>United States</td>\n",
       "      <td>Detroit</td>\n",
       "      <td>...</td>\n",
       "      <td>48227</td>\n",
       "      <td>Central</td>\n",
       "      <td>OFF-AP-10002457</td>\n",
       "      <td>Office Supplies</td>\n",
       "      <td>Appliances</td>\n",
       "      <td>Eureka The Boss Plus 12-Amp Hard Box Upright V...</td>\n",
       "      <td>376.740</td>\n",
       "      <td>4</td>\n",
       "      <td>0.1</td>\n",
       "      <td>71.1620</td>\n",
       "    </tr>\n",
       "    <tr>\n",
       "      <th>17876</th>\n",
       "      <td>17877</td>\n",
       "      <td>CA-2015-120782</td>\n",
       "      <td>2015/04/28</td>\n",
       "      <td>2015/05/01</td>\n",
       "      <td>First Class</td>\n",
       "      <td>SD-20485</td>\n",
       "      <td>Shirley Daniels</td>\n",
       "      <td>Home Office</td>\n",
       "      <td>United States</td>\n",
       "      <td>Midland</td>\n",
       "      <td>...</td>\n",
       "      <td>48640</td>\n",
       "      <td>Central</td>\n",
       "      <td>OFF-AP-10003779</td>\n",
       "      <td>Office Supplies</td>\n",
       "      <td>Appliances</td>\n",
       "      <td>Kensington 7 Outlet MasterPiece Power Center w...</td>\n",
       "      <td>186.732</td>\n",
       "      <td>1</td>\n",
       "      <td>0.1</td>\n",
       "      <td>41.4960</td>\n",
       "    </tr>\n",
       "    <tr>\n",
       "      <th>32009</th>\n",
       "      <td>32010</td>\n",
       "      <td>CA-2018-127327</td>\n",
       "      <td>2018/02/03</td>\n",
       "      <td>2018/02/07</td>\n",
       "      <td>Standard Class</td>\n",
       "      <td>PW-19030</td>\n",
       "      <td>Pauline Webber</td>\n",
       "      <td>Corporate</td>\n",
       "      <td>United States</td>\n",
       "      <td>Rome</td>\n",
       "      <td>...</td>\n",
       "      <td>13440</td>\n",
       "      <td>East</td>\n",
       "      <td>FUR-CH-10004218</td>\n",
       "      <td>Furniture</td>\n",
       "      <td>Chairs</td>\n",
       "      <td>Global Fabric Manager's Chair, Dark Gray</td>\n",
       "      <td>90.882</td>\n",
       "      <td>1</td>\n",
       "      <td>0.1</td>\n",
       "      <td>15.1470</td>\n",
       "    </tr>\n",
       "    <tr>\n",
       "      <th>9698</th>\n",
       "      <td>9699</td>\n",
       "      <td>US-2022-111689</td>\n",
       "      <td>2022/11/30</td>\n",
       "      <td>2022/12/02</td>\n",
       "      <td>Second Class</td>\n",
       "      <td>HP-14815</td>\n",
       "      <td>Harold Pawlan</td>\n",
       "      <td>Home Office</td>\n",
       "      <td>United States</td>\n",
       "      <td>New York City</td>\n",
       "      <td>...</td>\n",
       "      <td>10024</td>\n",
       "      <td>East</td>\n",
       "      <td>FUR-CH-10004287</td>\n",
       "      <td>Furniture</td>\n",
       "      <td>Chairs</td>\n",
       "      <td>SAFCO Arco Folding Chair</td>\n",
       "      <td>1242.900</td>\n",
       "      <td>5</td>\n",
       "      <td>0.1</td>\n",
       "      <td>262.3900</td>\n",
       "    </tr>\n",
       "    <tr>\n",
       "      <th>27030</th>\n",
       "      <td>27031</td>\n",
       "      <td>US-2024-159366</td>\n",
       "      <td>2024/01/07</td>\n",
       "      <td>2024/01/10</td>\n",
       "      <td>First Class</td>\n",
       "      <td>BW-11110</td>\n",
       "      <td>Bart Watters</td>\n",
       "      <td>Corporate</td>\n",
       "      <td>United States</td>\n",
       "      <td>Detroit</td>\n",
       "      <td>...</td>\n",
       "      <td>48205</td>\n",
       "      <td>Central</td>\n",
       "      <td>TEC-MA-10000822</td>\n",
       "      <td>Technology</td>\n",
       "      <td>Machines</td>\n",
       "      <td>Lexmark MX611dhe Monochrome Laser Printer</td>\n",
       "      <td>3059.982</td>\n",
       "      <td>2</td>\n",
       "      <td>0.1</td>\n",
       "      <td>679.9960</td>\n",
       "    </tr>\n",
       "    <tr>\n",
       "      <th>4557</th>\n",
       "      <td>4558</td>\n",
       "      <td>US-2021-120530</td>\n",
       "      <td>2021/04/07</td>\n",
       "      <td>2021/04/12</td>\n",
       "      <td>Standard Class</td>\n",
       "      <td>Dl-13600</td>\n",
       "      <td>Dorris liebe</td>\n",
       "      <td>Corporate</td>\n",
       "      <td>United States</td>\n",
       "      <td>New York City</td>\n",
       "      <td>...</td>\n",
       "      <td>10035</td>\n",
       "      <td>East</td>\n",
       "      <td>FUR-CH-10000454</td>\n",
       "      <td>Furniture</td>\n",
       "      <td>Chairs</td>\n",
       "      <td>Hon Deluxe Fabric Upholstered Stacking Chairs,...</td>\n",
       "      <td>658.746</td>\n",
       "      <td>3</td>\n",
       "      <td>0.1</td>\n",
       "      <td>146.3880</td>\n",
       "    </tr>\n",
       "    <tr>\n",
       "      <th>23733</th>\n",
       "      <td>23734</td>\n",
       "      <td>US-2022-160227</td>\n",
       "      <td>2022/11/02</td>\n",
       "      <td>2022/11/04</td>\n",
       "      <td>First Class</td>\n",
       "      <td>ED-13885</td>\n",
       "      <td>Emily Ducich</td>\n",
       "      <td>Home Office</td>\n",
       "      <td>United States</td>\n",
       "      <td>New York City</td>\n",
       "      <td>...</td>\n",
       "      <td>10011</td>\n",
       "      <td>East</td>\n",
       "      <td>FUR-CH-10002073</td>\n",
       "      <td>Furniture</td>\n",
       "      <td>Chairs</td>\n",
       "      <td>Hon Olson Stacker Chairs</td>\n",
       "      <td>2621.322</td>\n",
       "      <td>11</td>\n",
       "      <td>0.1</td>\n",
       "      <td>553.3902</td>\n",
       "    </tr>\n",
       "    <tr>\n",
       "      <th>17818</th>\n",
       "      <td>17819</td>\n",
       "      <td>CA-2015-136805</td>\n",
       "      <td>2015/05/23</td>\n",
       "      <td>2015/05/27</td>\n",
       "      <td>Second Class</td>\n",
       "      <td>NM-18445</td>\n",
       "      <td>Nathan Mautz</td>\n",
       "      <td>Home Office</td>\n",
       "      <td>United States</td>\n",
       "      <td>Detroit</td>\n",
       "      <td>...</td>\n",
       "      <td>48234</td>\n",
       "      <td>Central</td>\n",
       "      <td>OFF-AP-10001394</td>\n",
       "      <td>Office Supplies</td>\n",
       "      <td>Appliances</td>\n",
       "      <td>Harmony Air Purifier</td>\n",
       "      <td>850.500</td>\n",
       "      <td>5</td>\n",
       "      <td>0.1</td>\n",
       "      <td>245.7000</td>\n",
       "    </tr>\n",
       "  </tbody>\n",
       "</table>\n",
       "<p>50 rows × 21 columns</p>\n",
       "</div>"
      ]
     },
     "execution_count": 31,
     "metadata": {},
     "output_type": "execute_result"
    }
   ],
   "execution_count": 31
  },
  {
   "metadata": {
    "ExecuteTime": {
     "end_time": "2024-06-07T12:58:06.123559Z",
     "start_time": "2024-06-07T12:58:06.117809Z"
    }
   },
   "cell_type": "code",
   "source": "profit_discount_products = sum([profit for profit in discount_products[\"Profit\"]])",
   "id": "2a9f6d51842cc16",
   "outputs": [],
   "execution_count": 24
  },
  {
   "metadata": {
    "ExecuteTime": {
     "end_time": "2024-06-07T12:58:07.596817Z",
     "start_time": "2024-06-07T12:58:07.592953Z"
    }
   },
   "cell_type": "code",
   "source": "profit_non_discount_products = sum([profit for profit in non_discount_products[\"Profit\"]])",
   "id": "30dcdd3c90eb4c3c",
   "outputs": [],
   "execution_count": 25
  },
  {
   "metadata": {
    "ExecuteTime": {
     "end_time": "2024-06-07T12:58:41.266239Z",
     "start_time": "2024-06-07T12:58:41.262199Z"
    }
   },
   "cell_type": "code",
   "source": "print(f'Discount profit: {profit_discount_products:.2f} \\n Non Discount profit: {profit_non_discount_products:.2f}')",
   "id": "15acc6d3ece3263e",
   "outputs": [
    {
     "name": "stdout",
     "output_type": "stream",
     "text": [
      "Discount profit: -110686.28 \n",
      " Non Discount profit: 1043295.53\n"
     ]
    }
   ],
   "execution_count": 28
  },
  {
   "metadata": {
    "ExecuteTime": {
     "end_time": "2024-06-07T12:52:55.591534Z",
     "start_time": "2024-06-07T12:52:55.587642Z"
    }
   },
   "cell_type": "code",
   "source": "profit_non_discount_products",
   "id": "90a0956d9562ab1",
   "outputs": [
    {
     "data": {
      "text/plain": [
       "0.0"
      ]
     },
     "execution_count": 20,
     "metadata": {},
     "output_type": "execute_result"
    }
   ],
   "execution_count": 20
  },
  {
   "metadata": {},
   "cell_type": "code",
   "outputs": [],
   "execution_count": null,
   "source": "",
   "id": "d75c08dc91e6852e"
  },
  {
   "metadata": {
    "ExecuteTime": {
     "end_time": "2024-06-07T13:05:47.676501Z",
     "start_time": "2024-06-07T13:05:47.672774Z"
    }
   },
   "cell_type": "code",
   "source": "discount_list = list(set(discount_products[\"Discount\"]))",
   "id": "4b980f8baf99403d",
   "outputs": [],
   "execution_count": 46
  },
  {
   "metadata": {
    "ExecuteTime": {
     "end_time": "2024-06-07T13:06:33.803002Z",
     "start_time": "2024-06-07T13:06:33.799560Z"
    }
   },
   "cell_type": "code",
   "source": [
    "sorted_discount_list = sorted(discount_list)\n",
    "sorted_discount_list"
   ],
   "id": "a4018c7212daee5d",
   "outputs": [
    {
     "data": {
      "text/plain": [
       "[0.1, 0.15, 0.2, 0.3, 0.32, 0.4, 0.45, 0.5, 0.6, 0.7, 0.8]"
      ]
     },
     "execution_count": 51,
     "metadata": {},
     "output_type": "execute_result"
    }
   ],
   "execution_count": 51
  },
  {
   "metadata": {
    "ExecuteTime": {
     "end_time": "2024-06-07T13:06:55.419070Z",
     "start_time": "2024-06-07T13:06:55.404079Z"
    }
   },
   "cell_type": "code",
   "source": [
    "list_dfs = [str(disc) for disc in sorted_discount_list]\n",
    "for i in range(len(list_dfs)):\n",
    "    list_dfs[i] = superstore_df[superstore_df.Discount == sorted_discount_list[i]]"
   ],
   "id": "54325761cadf28a8",
   "outputs": [],
   "execution_count": 52
  },
  {
   "metadata": {
    "ExecuteTime": {
     "end_time": "2024-06-07T13:07:02.303655Z",
     "start_time": "2024-06-07T13:07:02.271693Z"
    }
   },
   "cell_type": "code",
   "source": "list_dfs[2]",
   "id": "5ee8fdf5804fd9ff",
   "outputs": [
    {
     "data": {
      "text/plain": [
       "       Row ID        Order ID  Order Date   Ship Date       Ship Mode  \\\n",
       "0           1  US-2019-103800  2019/01/03  2019/01/07  Standard Class   \n",
       "2           3  US-2019-112326  2019/01/04  2019/01/08  Standard Class   \n",
       "3           4  US-2019-112326  2019/01/04  2019/01/08  Standard Class   \n",
       "4           5  US-2019-141817  2019/01/05  2019/01/12  Standard Class   \n",
       "16         17  US-2019-135405  2019/01/09  2019/01/13  Standard Class   \n",
       "...       ...             ...         ...         ...             ...   \n",
       "32472   32473  CA-2018-141593  2018/12/14  2018/12/16    Second Class   \n",
       "32474   32475  CA-2018-141593  2018/12/14  2018/12/16    Second Class   \n",
       "32475   32476  CA-2018-141593  2018/12/14  2018/12/16    Second Class   \n",
       "32476   32477  CA-2018-168088  2018/03/19  2018/03/22     First Class   \n",
       "32478   32479  CA-2018-143700  2018/07/26  2018/07/26        Same Day   \n",
       "\n",
       "      Customer ID     Customer Name      Segment        Country          City  \\\n",
       "0        DP-13000     Darren Powers     Consumer  United States       Houston   \n",
       "2        PO-19195     Phillina Ober  Home Office  United States    Naperville   \n",
       "3        PO-19195     Phillina Ober  Home Office  United States    Naperville   \n",
       "4        MB-18085        Mick Brown     Consumer  United States  Philadelphia   \n",
       "16       MS-17830     Melanie Seite     Consumer  United States        Laredo   \n",
       "...           ...               ...          ...            ...           ...   \n",
       "32472    DB-12970       Darren Budd    Corporate  United States   Los Angeles   \n",
       "32474    DB-12970       Darren Budd    Corporate  United States   Los Angeles   \n",
       "32475    DB-12970       Darren Budd    Corporate  United States   Los Angeles   \n",
       "32476    CM-12655  Corinna Mitchell  Home Office  United States       Houston   \n",
       "32478    AS-10240      Alan Shonely     Consumer  United States  Philadelphia   \n",
       "\n",
       "       ... Postal Code   Region       Product ID         Category  \\\n",
       "0      ...       77095  Central  OFF-PA-10000174  Office Supplies   \n",
       "2      ...       60540  Central  OFF-LA-10003223  Office Supplies   \n",
       "3      ...       60540  Central  OFF-ST-10002743  Office Supplies   \n",
       "4      ...       19143     East  OFF-AR-10003478  Office Supplies   \n",
       "16     ...       78041  Central  OFF-AR-10004078  Office Supplies   \n",
       "...    ...         ...      ...              ...              ...   \n",
       "32472  ...       90045     West  OFF-BI-10001153  Office Supplies   \n",
       "32474  ...       90045     West  OFF-BI-10000948  Office Supplies   \n",
       "32475  ...       90045     West  FUR-TA-10002622        Furniture   \n",
       "32476  ...       77041  Central  OFF-PA-10000675  Office Supplies   \n",
       "32478  ...       19140     East  OFF-PA-10003072  Office Supplies   \n",
       "\n",
       "      Sub-Category                                       Product Name  \\\n",
       "0            Paper  Message Book, Wirebound, Four 5 1/2\" X 4\" Form...   \n",
       "2           Labels                                          Avery 508   \n",
       "3          Storage                      SAFCO Boltless Steel Shelving   \n",
       "4              Art  Avery Hi-Liter EverBold Pen Style Fluorescent ...   \n",
       "16             Art                                         Newell 312   \n",
       "...            ...                                                ...   \n",
       "32472      Binders               Ibico Recycled Grain-Textured Covers   \n",
       "32474      Binders  GBC Laser Imprintable Binding System Covers, D...   \n",
       "32475       Tables  Bush Andora Conference Table, Maple/Graphite G...   \n",
       "32476        Paper                                         Xerox 1919   \n",
       "32478        Paper      Eureka Recycled Copy Paper 8 1/2\" x 11\", Ream   \n",
       "\n",
       "         Sales  Quantity  Discount   Profit  \n",
       "0       16.448         2       0.2   5.5512  \n",
       "2       11.784         3       0.2   4.2717  \n",
       "3      272.736         3       0.2 -64.7748  \n",
       "4       19.536         3       0.2   4.8840  \n",
       "16       9.344         2       0.2   1.1680  \n",
       "...        ...       ...       ...      ...  \n",
       "32472   55.264         2       0.2  20.7240  \n",
       "32474   34.248         3       0.2  11.5587  \n",
       "32475  273.568         2       0.2  10.2588  \n",
       "32476   65.584         2       0.2  23.7742  \n",
       "32478   10.368         2       0.2   3.6288  \n",
       "\n",
       "[11816 rows x 21 columns]"
      ],
      "text/html": [
       "<div>\n",
       "<style scoped>\n",
       "    .dataframe tbody tr th:only-of-type {\n",
       "        vertical-align: middle;\n",
       "    }\n",
       "\n",
       "    .dataframe tbody tr th {\n",
       "        vertical-align: top;\n",
       "    }\n",
       "\n",
       "    .dataframe thead th {\n",
       "        text-align: right;\n",
       "    }\n",
       "</style>\n",
       "<table border=\"1\" class=\"dataframe\">\n",
       "  <thead>\n",
       "    <tr style=\"text-align: right;\">\n",
       "      <th></th>\n",
       "      <th>Row ID</th>\n",
       "      <th>Order ID</th>\n",
       "      <th>Order Date</th>\n",
       "      <th>Ship Date</th>\n",
       "      <th>Ship Mode</th>\n",
       "      <th>Customer ID</th>\n",
       "      <th>Customer Name</th>\n",
       "      <th>Segment</th>\n",
       "      <th>Country</th>\n",
       "      <th>City</th>\n",
       "      <th>...</th>\n",
       "      <th>Postal Code</th>\n",
       "      <th>Region</th>\n",
       "      <th>Product ID</th>\n",
       "      <th>Category</th>\n",
       "      <th>Sub-Category</th>\n",
       "      <th>Product Name</th>\n",
       "      <th>Sales</th>\n",
       "      <th>Quantity</th>\n",
       "      <th>Discount</th>\n",
       "      <th>Profit</th>\n",
       "    </tr>\n",
       "  </thead>\n",
       "  <tbody>\n",
       "    <tr>\n",
       "      <th>0</th>\n",
       "      <td>1</td>\n",
       "      <td>US-2019-103800</td>\n",
       "      <td>2019/01/03</td>\n",
       "      <td>2019/01/07</td>\n",
       "      <td>Standard Class</td>\n",
       "      <td>DP-13000</td>\n",
       "      <td>Darren Powers</td>\n",
       "      <td>Consumer</td>\n",
       "      <td>United States</td>\n",
       "      <td>Houston</td>\n",
       "      <td>...</td>\n",
       "      <td>77095</td>\n",
       "      <td>Central</td>\n",
       "      <td>OFF-PA-10000174</td>\n",
       "      <td>Office Supplies</td>\n",
       "      <td>Paper</td>\n",
       "      <td>Message Book, Wirebound, Four 5 1/2\" X 4\" Form...</td>\n",
       "      <td>16.448</td>\n",
       "      <td>2</td>\n",
       "      <td>0.2</td>\n",
       "      <td>5.5512</td>\n",
       "    </tr>\n",
       "    <tr>\n",
       "      <th>2</th>\n",
       "      <td>3</td>\n",
       "      <td>US-2019-112326</td>\n",
       "      <td>2019/01/04</td>\n",
       "      <td>2019/01/08</td>\n",
       "      <td>Standard Class</td>\n",
       "      <td>PO-19195</td>\n",
       "      <td>Phillina Ober</td>\n",
       "      <td>Home Office</td>\n",
       "      <td>United States</td>\n",
       "      <td>Naperville</td>\n",
       "      <td>...</td>\n",
       "      <td>60540</td>\n",
       "      <td>Central</td>\n",
       "      <td>OFF-LA-10003223</td>\n",
       "      <td>Office Supplies</td>\n",
       "      <td>Labels</td>\n",
       "      <td>Avery 508</td>\n",
       "      <td>11.784</td>\n",
       "      <td>3</td>\n",
       "      <td>0.2</td>\n",
       "      <td>4.2717</td>\n",
       "    </tr>\n",
       "    <tr>\n",
       "      <th>3</th>\n",
       "      <td>4</td>\n",
       "      <td>US-2019-112326</td>\n",
       "      <td>2019/01/04</td>\n",
       "      <td>2019/01/08</td>\n",
       "      <td>Standard Class</td>\n",
       "      <td>PO-19195</td>\n",
       "      <td>Phillina Ober</td>\n",
       "      <td>Home Office</td>\n",
       "      <td>United States</td>\n",
       "      <td>Naperville</td>\n",
       "      <td>...</td>\n",
       "      <td>60540</td>\n",
       "      <td>Central</td>\n",
       "      <td>OFF-ST-10002743</td>\n",
       "      <td>Office Supplies</td>\n",
       "      <td>Storage</td>\n",
       "      <td>SAFCO Boltless Steel Shelving</td>\n",
       "      <td>272.736</td>\n",
       "      <td>3</td>\n",
       "      <td>0.2</td>\n",
       "      <td>-64.7748</td>\n",
       "    </tr>\n",
       "    <tr>\n",
       "      <th>4</th>\n",
       "      <td>5</td>\n",
       "      <td>US-2019-141817</td>\n",
       "      <td>2019/01/05</td>\n",
       "      <td>2019/01/12</td>\n",
       "      <td>Standard Class</td>\n",
       "      <td>MB-18085</td>\n",
       "      <td>Mick Brown</td>\n",
       "      <td>Consumer</td>\n",
       "      <td>United States</td>\n",
       "      <td>Philadelphia</td>\n",
       "      <td>...</td>\n",
       "      <td>19143</td>\n",
       "      <td>East</td>\n",
       "      <td>OFF-AR-10003478</td>\n",
       "      <td>Office Supplies</td>\n",
       "      <td>Art</td>\n",
       "      <td>Avery Hi-Liter EverBold Pen Style Fluorescent ...</td>\n",
       "      <td>19.536</td>\n",
       "      <td>3</td>\n",
       "      <td>0.2</td>\n",
       "      <td>4.8840</td>\n",
       "    </tr>\n",
       "    <tr>\n",
       "      <th>16</th>\n",
       "      <td>17</td>\n",
       "      <td>US-2019-135405</td>\n",
       "      <td>2019/01/09</td>\n",
       "      <td>2019/01/13</td>\n",
       "      <td>Standard Class</td>\n",
       "      <td>MS-17830</td>\n",
       "      <td>Melanie Seite</td>\n",
       "      <td>Consumer</td>\n",
       "      <td>United States</td>\n",
       "      <td>Laredo</td>\n",
       "      <td>...</td>\n",
       "      <td>78041</td>\n",
       "      <td>Central</td>\n",
       "      <td>OFF-AR-10004078</td>\n",
       "      <td>Office Supplies</td>\n",
       "      <td>Art</td>\n",
       "      <td>Newell 312</td>\n",
       "      <td>9.344</td>\n",
       "      <td>2</td>\n",
       "      <td>0.2</td>\n",
       "      <td>1.1680</td>\n",
       "    </tr>\n",
       "    <tr>\n",
       "      <th>...</th>\n",
       "      <td>...</td>\n",
       "      <td>...</td>\n",
       "      <td>...</td>\n",
       "      <td>...</td>\n",
       "      <td>...</td>\n",
       "      <td>...</td>\n",
       "      <td>...</td>\n",
       "      <td>...</td>\n",
       "      <td>...</td>\n",
       "      <td>...</td>\n",
       "      <td>...</td>\n",
       "      <td>...</td>\n",
       "      <td>...</td>\n",
       "      <td>...</td>\n",
       "      <td>...</td>\n",
       "      <td>...</td>\n",
       "      <td>...</td>\n",
       "      <td>...</td>\n",
       "      <td>...</td>\n",
       "      <td>...</td>\n",
       "      <td>...</td>\n",
       "    </tr>\n",
       "    <tr>\n",
       "      <th>32472</th>\n",
       "      <td>32473</td>\n",
       "      <td>CA-2018-141593</td>\n",
       "      <td>2018/12/14</td>\n",
       "      <td>2018/12/16</td>\n",
       "      <td>Second Class</td>\n",
       "      <td>DB-12970</td>\n",
       "      <td>Darren Budd</td>\n",
       "      <td>Corporate</td>\n",
       "      <td>United States</td>\n",
       "      <td>Los Angeles</td>\n",
       "      <td>...</td>\n",
       "      <td>90045</td>\n",
       "      <td>West</td>\n",
       "      <td>OFF-BI-10001153</td>\n",
       "      <td>Office Supplies</td>\n",
       "      <td>Binders</td>\n",
       "      <td>Ibico Recycled Grain-Textured Covers</td>\n",
       "      <td>55.264</td>\n",
       "      <td>2</td>\n",
       "      <td>0.2</td>\n",
       "      <td>20.7240</td>\n",
       "    </tr>\n",
       "    <tr>\n",
       "      <th>32474</th>\n",
       "      <td>32475</td>\n",
       "      <td>CA-2018-141593</td>\n",
       "      <td>2018/12/14</td>\n",
       "      <td>2018/12/16</td>\n",
       "      <td>Second Class</td>\n",
       "      <td>DB-12970</td>\n",
       "      <td>Darren Budd</td>\n",
       "      <td>Corporate</td>\n",
       "      <td>United States</td>\n",
       "      <td>Los Angeles</td>\n",
       "      <td>...</td>\n",
       "      <td>90045</td>\n",
       "      <td>West</td>\n",
       "      <td>OFF-BI-10000948</td>\n",
       "      <td>Office Supplies</td>\n",
       "      <td>Binders</td>\n",
       "      <td>GBC Laser Imprintable Binding System Covers, D...</td>\n",
       "      <td>34.248</td>\n",
       "      <td>3</td>\n",
       "      <td>0.2</td>\n",
       "      <td>11.5587</td>\n",
       "    </tr>\n",
       "    <tr>\n",
       "      <th>32475</th>\n",
       "      <td>32476</td>\n",
       "      <td>CA-2018-141593</td>\n",
       "      <td>2018/12/14</td>\n",
       "      <td>2018/12/16</td>\n",
       "      <td>Second Class</td>\n",
       "      <td>DB-12970</td>\n",
       "      <td>Darren Budd</td>\n",
       "      <td>Corporate</td>\n",
       "      <td>United States</td>\n",
       "      <td>Los Angeles</td>\n",
       "      <td>...</td>\n",
       "      <td>90045</td>\n",
       "      <td>West</td>\n",
       "      <td>FUR-TA-10002622</td>\n",
       "      <td>Furniture</td>\n",
       "      <td>Tables</td>\n",
       "      <td>Bush Andora Conference Table, Maple/Graphite G...</td>\n",
       "      <td>273.568</td>\n",
       "      <td>2</td>\n",
       "      <td>0.2</td>\n",
       "      <td>10.2588</td>\n",
       "    </tr>\n",
       "    <tr>\n",
       "      <th>32476</th>\n",
       "      <td>32477</td>\n",
       "      <td>CA-2018-168088</td>\n",
       "      <td>2018/03/19</td>\n",
       "      <td>2018/03/22</td>\n",
       "      <td>First Class</td>\n",
       "      <td>CM-12655</td>\n",
       "      <td>Corinna Mitchell</td>\n",
       "      <td>Home Office</td>\n",
       "      <td>United States</td>\n",
       "      <td>Houston</td>\n",
       "      <td>...</td>\n",
       "      <td>77041</td>\n",
       "      <td>Central</td>\n",
       "      <td>OFF-PA-10000675</td>\n",
       "      <td>Office Supplies</td>\n",
       "      <td>Paper</td>\n",
       "      <td>Xerox 1919</td>\n",
       "      <td>65.584</td>\n",
       "      <td>2</td>\n",
       "      <td>0.2</td>\n",
       "      <td>23.7742</td>\n",
       "    </tr>\n",
       "    <tr>\n",
       "      <th>32478</th>\n",
       "      <td>32479</td>\n",
       "      <td>CA-2018-143700</td>\n",
       "      <td>2018/07/26</td>\n",
       "      <td>2018/07/26</td>\n",
       "      <td>Same Day</td>\n",
       "      <td>AS-10240</td>\n",
       "      <td>Alan Shonely</td>\n",
       "      <td>Consumer</td>\n",
       "      <td>United States</td>\n",
       "      <td>Philadelphia</td>\n",
       "      <td>...</td>\n",
       "      <td>19140</td>\n",
       "      <td>East</td>\n",
       "      <td>OFF-PA-10003072</td>\n",
       "      <td>Office Supplies</td>\n",
       "      <td>Paper</td>\n",
       "      <td>Eureka Recycled Copy Paper 8 1/2\" x 11\", Ream</td>\n",
       "      <td>10.368</td>\n",
       "      <td>2</td>\n",
       "      <td>0.2</td>\n",
       "      <td>3.6288</td>\n",
       "    </tr>\n",
       "  </tbody>\n",
       "</table>\n",
       "<p>11816 rows × 21 columns</p>\n",
       "</div>"
      ]
     },
     "execution_count": 53,
     "metadata": {},
     "output_type": "execute_result"
    }
   ],
   "execution_count": 53
  },
  {
   "metadata": {
    "ExecuteTime": {
     "end_time": "2024-06-07T13:11:40.176234Z",
     "start_time": "2024-06-07T13:11:40.170457Z"
    }
   },
   "cell_type": "code",
   "source": [
    "df_profits = superstore_df[[\"Discount\", \"Profit\", \"Quantity\"]]\n",
    "test_df = df_profits.groupby(\"Discount\").sum()"
   ],
   "id": "495156f249d53970",
   "outputs": [],
   "execution_count": 60
  },
  {
   "metadata": {
    "ExecuteTime": {
     "end_time": "2024-06-07T13:11:43.667181Z",
     "start_time": "2024-06-07T13:11:43.660622Z"
    }
   },
   "cell_type": "code",
   "source": "test_df",
   "id": "beb3bdefc95193eb",
   "outputs": [
    {
     "data": {
      "text/plain": [
       "                Profit  Quantity\n",
       "Discount                        \n",
       "0.00      1.043296e+06     59684\n",
       "0.10      2.962160e+04      1234\n",
       "0.15      4.462588e+03       636\n",
       "0.20      2.910521e+05     44181\n",
       "0.30     -3.359627e+04      2733\n",
       "0.32     -7.969806e+03       345\n",
       "0.40     -7.438477e+04      2515\n",
       "0.45     -8.095980e+03       144\n",
       "0.50     -6.540637e+04       772\n",
       "0.60     -1.932520e+04      1720\n",
       "0.70     -1.310561e+05      5370\n",
       "0.80     -9.598805e+04      3826"
      ],
      "text/html": [
       "<div>\n",
       "<style scoped>\n",
       "    .dataframe tbody tr th:only-of-type {\n",
       "        vertical-align: middle;\n",
       "    }\n",
       "\n",
       "    .dataframe tbody tr th {\n",
       "        vertical-align: top;\n",
       "    }\n",
       "\n",
       "    .dataframe thead th {\n",
       "        text-align: right;\n",
       "    }\n",
       "</style>\n",
       "<table border=\"1\" class=\"dataframe\">\n",
       "  <thead>\n",
       "    <tr style=\"text-align: right;\">\n",
       "      <th></th>\n",
       "      <th>Profit</th>\n",
       "      <th>Quantity</th>\n",
       "    </tr>\n",
       "    <tr>\n",
       "      <th>Discount</th>\n",
       "      <th></th>\n",
       "      <th></th>\n",
       "    </tr>\n",
       "  </thead>\n",
       "  <tbody>\n",
       "    <tr>\n",
       "      <th>0.00</th>\n",
       "      <td>1.043296e+06</td>\n",
       "      <td>59684</td>\n",
       "    </tr>\n",
       "    <tr>\n",
       "      <th>0.10</th>\n",
       "      <td>2.962160e+04</td>\n",
       "      <td>1234</td>\n",
       "    </tr>\n",
       "    <tr>\n",
       "      <th>0.15</th>\n",
       "      <td>4.462588e+03</td>\n",
       "      <td>636</td>\n",
       "    </tr>\n",
       "    <tr>\n",
       "      <th>0.20</th>\n",
       "      <td>2.910521e+05</td>\n",
       "      <td>44181</td>\n",
       "    </tr>\n",
       "    <tr>\n",
       "      <th>0.30</th>\n",
       "      <td>-3.359627e+04</td>\n",
       "      <td>2733</td>\n",
       "    </tr>\n",
       "    <tr>\n",
       "      <th>0.32</th>\n",
       "      <td>-7.969806e+03</td>\n",
       "      <td>345</td>\n",
       "    </tr>\n",
       "    <tr>\n",
       "      <th>0.40</th>\n",
       "      <td>-7.438477e+04</td>\n",
       "      <td>2515</td>\n",
       "    </tr>\n",
       "    <tr>\n",
       "      <th>0.45</th>\n",
       "      <td>-8.095980e+03</td>\n",
       "      <td>144</td>\n",
       "    </tr>\n",
       "    <tr>\n",
       "      <th>0.50</th>\n",
       "      <td>-6.540637e+04</td>\n",
       "      <td>772</td>\n",
       "    </tr>\n",
       "    <tr>\n",
       "      <th>0.60</th>\n",
       "      <td>-1.932520e+04</td>\n",
       "      <td>1720</td>\n",
       "    </tr>\n",
       "    <tr>\n",
       "      <th>0.70</th>\n",
       "      <td>-1.310561e+05</td>\n",
       "      <td>5370</td>\n",
       "    </tr>\n",
       "    <tr>\n",
       "      <th>0.80</th>\n",
       "      <td>-9.598805e+04</td>\n",
       "      <td>3826</td>\n",
       "    </tr>\n",
       "  </tbody>\n",
       "</table>\n",
       "</div>"
      ]
     },
     "execution_count": 61,
     "metadata": {},
     "output_type": "execute_result"
    }
   ],
   "execution_count": 61
  },
  {
   "metadata": {
    "ExecuteTime": {
     "end_time": "2024-06-07T13:16:47.995548Z",
     "start_time": "2024-06-07T13:16:46.249871Z"
    }
   },
   "cell_type": "code",
   "source": "test_df.plot(x = test_df[\"Discount\"])",
   "id": "cd3a05dad15bf77e",
   "outputs": [
    {
     "ename": "KeyError",
     "evalue": "'Discount'",
     "output_type": "error",
     "traceback": [
      "\u001B[0;31m---------------------------------------------------------------------------\u001B[0m",
      "\u001B[0;31mKeyError\u001B[0m                                  Traceback (most recent call last)",
      "File \u001B[0;32m~/.conda/envs/DataSci/lib/python3.8/site-packages/pandas/core/indexes/base.py:3653\u001B[0m, in \u001B[0;36mIndex.get_loc\u001B[0;34m(self, key)\u001B[0m\n\u001B[1;32m   3652\u001B[0m \u001B[38;5;28;01mtry\u001B[39;00m:\n\u001B[0;32m-> 3653\u001B[0m     \u001B[38;5;28;01mreturn\u001B[39;00m \u001B[38;5;28;43mself\u001B[39;49m\u001B[38;5;241;43m.\u001B[39;49m\u001B[43m_engine\u001B[49m\u001B[38;5;241;43m.\u001B[39;49m\u001B[43mget_loc\u001B[49m\u001B[43m(\u001B[49m\u001B[43mcasted_key\u001B[49m\u001B[43m)\u001B[49m\n\u001B[1;32m   3654\u001B[0m \u001B[38;5;28;01mexcept\u001B[39;00m \u001B[38;5;167;01mKeyError\u001B[39;00m \u001B[38;5;28;01mas\u001B[39;00m err:\n",
      "File \u001B[0;32m~/.conda/envs/DataSci/lib/python3.8/site-packages/pandas/_libs/index.pyx:147\u001B[0m, in \u001B[0;36mpandas._libs.index.IndexEngine.get_loc\u001B[0;34m()\u001B[0m\n",
      "File \u001B[0;32m~/.conda/envs/DataSci/lib/python3.8/site-packages/pandas/_libs/index.pyx:176\u001B[0m, in \u001B[0;36mpandas._libs.index.IndexEngine.get_loc\u001B[0;34m()\u001B[0m\n",
      "File \u001B[0;32mpandas/_libs/hashtable_class_helper.pxi:7080\u001B[0m, in \u001B[0;36mpandas._libs.hashtable.PyObjectHashTable.get_item\u001B[0;34m()\u001B[0m\n",
      "File \u001B[0;32mpandas/_libs/hashtable_class_helper.pxi:7088\u001B[0m, in \u001B[0;36mpandas._libs.hashtable.PyObjectHashTable.get_item\u001B[0;34m()\u001B[0m\n",
      "\u001B[0;31mKeyError\u001B[0m: 'Discount'",
      "\nThe above exception was the direct cause of the following exception:\n",
      "\u001B[0;31mKeyError\u001B[0m                                  Traceback (most recent call last)",
      "Cell \u001B[0;32mIn[64], line 1\u001B[0m\n\u001B[0;32m----> 1\u001B[0m test_df\u001B[38;5;241m.\u001B[39mplot(x \u001B[38;5;241m=\u001B[39m \u001B[43mtest_df\u001B[49m\u001B[43m[\u001B[49m\u001B[38;5;124;43m\"\u001B[39;49m\u001B[38;5;124;43mDiscount\u001B[39;49m\u001B[38;5;124;43m\"\u001B[39;49m\u001B[43m]\u001B[49m)\n",
      "File \u001B[0;32m~/.conda/envs/DataSci/lib/python3.8/site-packages/pandas/core/frame.py:3761\u001B[0m, in \u001B[0;36mDataFrame.__getitem__\u001B[0;34m(self, key)\u001B[0m\n\u001B[1;32m   3759\u001B[0m \u001B[38;5;28;01mif\u001B[39;00m \u001B[38;5;28mself\u001B[39m\u001B[38;5;241m.\u001B[39mcolumns\u001B[38;5;241m.\u001B[39mnlevels \u001B[38;5;241m>\u001B[39m \u001B[38;5;241m1\u001B[39m:\n\u001B[1;32m   3760\u001B[0m     \u001B[38;5;28;01mreturn\u001B[39;00m \u001B[38;5;28mself\u001B[39m\u001B[38;5;241m.\u001B[39m_getitem_multilevel(key)\n\u001B[0;32m-> 3761\u001B[0m indexer \u001B[38;5;241m=\u001B[39m \u001B[38;5;28;43mself\u001B[39;49m\u001B[38;5;241;43m.\u001B[39;49m\u001B[43mcolumns\u001B[49m\u001B[38;5;241;43m.\u001B[39;49m\u001B[43mget_loc\u001B[49m\u001B[43m(\u001B[49m\u001B[43mkey\u001B[49m\u001B[43m)\u001B[49m\n\u001B[1;32m   3762\u001B[0m \u001B[38;5;28;01mif\u001B[39;00m is_integer(indexer):\n\u001B[1;32m   3763\u001B[0m     indexer \u001B[38;5;241m=\u001B[39m [indexer]\n",
      "File \u001B[0;32m~/.conda/envs/DataSci/lib/python3.8/site-packages/pandas/core/indexes/base.py:3655\u001B[0m, in \u001B[0;36mIndex.get_loc\u001B[0;34m(self, key)\u001B[0m\n\u001B[1;32m   3653\u001B[0m     \u001B[38;5;28;01mreturn\u001B[39;00m \u001B[38;5;28mself\u001B[39m\u001B[38;5;241m.\u001B[39m_engine\u001B[38;5;241m.\u001B[39mget_loc(casted_key)\n\u001B[1;32m   3654\u001B[0m \u001B[38;5;28;01mexcept\u001B[39;00m \u001B[38;5;167;01mKeyError\u001B[39;00m \u001B[38;5;28;01mas\u001B[39;00m err:\n\u001B[0;32m-> 3655\u001B[0m     \u001B[38;5;28;01mraise\u001B[39;00m \u001B[38;5;167;01mKeyError\u001B[39;00m(key) \u001B[38;5;28;01mfrom\u001B[39;00m \u001B[38;5;21;01merr\u001B[39;00m\n\u001B[1;32m   3656\u001B[0m \u001B[38;5;28;01mexcept\u001B[39;00m \u001B[38;5;167;01mTypeError\u001B[39;00m:\n\u001B[1;32m   3657\u001B[0m     \u001B[38;5;66;03m# If we have a listlike key, _check_indexing_error will raise\u001B[39;00m\n\u001B[1;32m   3658\u001B[0m     \u001B[38;5;66;03m#  InvalidIndexError. Otherwise we fall through and re-raise\u001B[39;00m\n\u001B[1;32m   3659\u001B[0m     \u001B[38;5;66;03m#  the TypeError.\u001B[39;00m\n\u001B[1;32m   3660\u001B[0m     \u001B[38;5;28mself\u001B[39m\u001B[38;5;241m.\u001B[39m_check_indexing_error(key)\n",
      "\u001B[0;31mKeyError\u001B[0m: 'Discount'"
     ]
    }
   ],
   "execution_count": 64
  },
  {
   "metadata": {
    "ExecuteTime": {
     "end_time": "2024-06-07T13:17:06.651929Z",
     "start_time": "2024-06-07T13:17:06.648233Z"
    }
   },
   "cell_type": "code",
   "source": "test_df.columns",
   "id": "6cca4b4bb5bba767",
   "outputs": [
    {
     "data": {
      "text/plain": [
       "Index(['Profit', 'Quantity'], dtype='object')"
      ]
     },
     "execution_count": 66,
     "metadata": {},
     "output_type": "execute_result"
    }
   ],
   "execution_count": 66
  },
  {
   "metadata": {
    "ExecuteTime": {
     "end_time": "2024-06-07T13:17:21.073563Z",
     "start_time": "2024-06-07T13:17:20.860372Z"
    }
   },
   "cell_type": "code",
   "source": "test_df.plot()",
   "id": "b86cd5dd37c5c2d8",
   "outputs": [
    {
     "data": {
      "text/plain": [
       "<Axes: xlabel='Discount'>"
      ]
     },
     "execution_count": 68,
     "metadata": {},
     "output_type": "execute_result"
    },
    {
     "data": {
      "text/plain": [
       "<Figure size 640x480 with 1 Axes>"
      ],
      "image/png": "[encoded data removed]"
     },
     "metadata": {},
     "output_type": "display_data"
    }
   ],
   "execution_count": 68
  },
  {
   "metadata": {
    "ExecuteTime": {
     "end_time": "2024-06-07T13:25:27.845705Z",
     "start_time": "2024-06-07T13:25:27.823680Z"
    }
   },
   "cell_type": "code",
   "source": [
    "fig = make_subplots(specs=[[{\"secondary_y\": True}]])\n",
    "fig.add_trace(\n",
    "    go.Scatter(x=sorted_discount_list, y=test_df['Profit'], name=\"yaxis data\"),\n",
    "    secondary_y=False,\n",
    ")\n",
    "\n",
    "fig.add_trace(\n",
    "    go.Scatter(x=sorted_discount_list, y=test_df['Quantity'], name=\"yaxis2 data\"),\n",
    "    secondary_y=True,\n",
    ")\n",
    "# Add figure title\n",
    "fig.update_layout(\n",
    "    title_text=\"Discount effects on sales\"\n",
    ")\n",
    "\n",
    "# Set x-axis title\n",
    "fig.update_xaxes(title_text=\"Discount\")\n",
    "\n",
    "# Set y-axes titles\n",
    "fig.update_yaxes(title_text=\"Profits\", secondary_y=False)\n",
    "fig.update_yaxes(title_text=\"Quantity\", secondary_y=True)\n",
    "fig.show()"
   ],
   "id": "2e37308efb4526c6",
   "outputs": [
    {
     "data": {
      "application/vnd.plotly.v1+json": {
       "data": [
        {
         "name": "yaxis data",
         "x": [
          0.1,
          0.15,
          0.2,
          0.3,
          0.32,
          0.4,
          0.45,
          0.5,
          0.6,
          0.7,
          0.8
         ],
         "y": [
          1043295.5342,
          29621.602299999995,
          4462.588399999998,
          291052.1217999999,
          -33596.2729,
          -7969.805700000003,
          -74384.77490000002,
          -8095.9800000000005,
          -65406.369300000006,
          -19325.2029,
          -131056.1373,
          -95988.04910000002
         ],
         "type": "scatter",
         "xaxis": "x",
         "yaxis": "y"
        },
        {
         "name": "yaxis2 data",
         "x": [
          0.1,
          0.15,
          0.2,
          0.3,
          0.32,
          0.4,
          0.45,
          0.5,
          0.6,
          0.7,
          0.8
         ],
         "y": [
          59684,
          1234,
          636,
          44181,
          2733,
          345,
          2515,
          144,
          772,
          1720,
          5370,
          3826
         ],
         "type": "scatter",
         "xaxis": "x",
         "yaxis": "y2"
        }
       ],
       "layout": {
        "template": {
         "data": {
          "histogram2dcontour": [
           {
            "type": "histogram2dcontour",
            "colorbar": {
             "outlinewidth": 0,
             "ticks": ""
            },
            "colorscale": [
             [
              0.0,
              "#0d0887"
             ],
             [
              0.1111111111111111,
              "#46039f"
             ],
             [
              0.2222222222222222,
              "#7201a8"
             ],
             [
              0.3333333333333333,
              "#9c179e"
             ],
             [
              0.4444444444444444,
              "#bd3786"
             ],
             [
              0.5555555555555556,
              "#d8576b"
             ],
             [
              0.6666666666666666,
              "#ed7953"
             ],
             [
              0.7777777777777778,
              "#fb9f3a"
             ],
             [
              0.8888888888888888,
              "#fdca26"
             ],
             [
              1.0,
              "#f0f921"
             ]
            ]
           }
          ],
          "choropleth": [
           {
            "type": "choropleth",
            "colorbar": {
             "outlinewidth": 0,
             "ticks": ""
            }
           }
          ],
          "histogram2d": [
           {
            "type": "histogram2d",
            "colorbar": {
             "outlinewidth": 0,
             "ticks": ""
            },
            "colorscale": [
             [
              0.0,
              "#0d0887"
             ],
             [
              0.1111111111111111,
              "#46039f"
             ],
             [
              0.2222222222222222,
              "#7201a8"
             ],
             [
              0.3333333333333333,
              "#9c179e"
             ],
             [
              0.4444444444444444,
              "#bd3786"
             ],
             [
              0.5555555555555556,
              "#d8576b"
             ],
             [
              0.6666666666666666,
              "#ed7953"
             ],
             [
              0.7777777777777778,
              "#fb9f3a"
             ],
             [
              0.8888888888888888,
              "#fdca26"
             ],
             [
              1.0,
              "#f0f921"
             ]
            ]
           }
          ],
          "heatmap": [
           {
            "type": "heatmap",
            "colorbar": {
             "outlinewidth": 0,
             "ticks": ""
            },
            "colorscale": [
             [
              0.0,
              "#0d0887"
             ],
             [
              0.1111111111111111,
              "#46039f"
             ],
             [
              0.2222222222222222,
              "#7201a8"
             ],
             [
              0.3333333333333333,
              "#9c179e"
             ],
             [
              0.4444444444444444,
              "#bd3786"
             ],
             [
              0.5555555555555556,
              "#d8576b"
             ],
             [
              0.6666666666666666,
              "#ed7953"
             ],
             [
              0.7777777777777778,
              "#fb9f3a"
             ],
             [
              0.8888888888888888,
              "#fdca26"
             ],
             [
              1.0,
              "#f0f921"
             ]
            ]
           }
          ],
          "heatmapgl": [
           {
            "type": "heatmapgl",
            "colorbar": {
             "outlinewidth": 0,
             "ticks": ""
            },
            "colorscale": [
             [
              0.0,
              "#0d0887"
             ],
             [
              0.1111111111111111,
              "#46039f"
             ],
             [
              0.2222222222222222,
              "#7201a8"
             ],
             [
              0.3333333333333333,
              "#9c179e"
             ],
             [
              0.4444444444444444,
              "#bd3786"
             ],
             [
              0.5555555555555556,
              "#d8576b"
             ],
             [
              0.6666666666666666,
              "#ed7953"
             ],
             [
              0.7777777777777778,
              "#fb9f3a"
             ],
             [
              0.8888888888888888,
              "#fdca26"
             ],
             [
              1.0,
              "#f0f921"
             ]
            ]
           }
          ],
          "contourcarpet": [
           {
            "type": "contourcarpet",
            "colorbar": {
             "outlinewidth": 0,
             "ticks": ""
            }
           }
          ],
          "contour": [
           {
            "type": "contour",
            "colorbar": {
             "outlinewidth": 0,
             "ticks": ""
            },
            "colorscale": [
             [
              0.0,
              "#0d0887"
             ],
             [
              0.1111111111111111,
              "#46039f"
             ],
             [
              0.2222222222222222,
              "#7201a8"
             ],
             [
              0.3333333333333333,
              "#9c179e"
             ],
             [
              0.4444444444444444,
              "#bd3786"
             ],
             [
              0.5555555555555556,
              "#d8576b"
             ],
             [
              0.6666666666666666,
              "#ed7953"
             ],
             [
              0.7777777777777778,
              "#fb9f3a"
             ],
             [
              0.8888888888888888,
              "#fdca26"
             ],
             [
              1.0,
              "#f0f921"
             ]
            ]
           }
          ],
          "surface": [
           {
            "type": "surface",
            "colorbar": {
             "outlinewidth": 0,
             "ticks": ""
            },
            "colorscale": [
             [
              0.0,
              "#0d0887"
             ],
             [
              0.1111111111111111,
              "#46039f"
             ],
             [
              0.2222222222222222,
              "#7201a8"
             ],
             [
              0.3333333333333333,
              "#9c179e"
             ],
             [
              0.4444444444444444,
              "#bd3786"
             ],
             [
              0.5555555555555556,
              "#d8576b"
             ],
             [
              0.6666666666666666,
              "#ed7953"
             ],
             [
              0.7777777777777778,
              "#fb9f3a"
             ],
             [
              0.8888888888888888,
              "#fdca26"
             ],
             [
              1.0,
              "#f0f921"
             ]
            ]
           }
          ],
          "mesh3d": [
           {
            "type": "mesh3d",
            "colorbar": {
             "outlinewidth": 0,
             "ticks": ""
            }
           }
          ],
          "scatter": [
           {
            "fillpattern": {
             "fillmode": "overlay",
             "size": 10,
             "solidity": 0.2
            },
            "type": "scatter"
           }
          ],
          "parcoords": [
           {
            "type": "parcoords",
            "line": {
             "colorbar": {
              "outlinewidth": 0,
              "ticks": ""
             }
            }
           }
          ],
          "scatterpolargl": [
           {
            "type": "scatterpolargl",
            "marker": {
             "colorbar": {
              "outlinewidth": 0,
              "ticks": ""
             }
            }
           }
          ],
          "bar": [
           {
            "error_x": {
             "color": "#2a3f5f"
            },
            "error_y": {
             "color": "#2a3f5f"
            },
            "marker": {
             "line": {
              "color": "#E5ECF6",
              "width": 0.5
             },
             "pattern": {
              "fillmode": "overlay",
              "size": 10,
              "solidity": 0.2
             }
            },
            "type": "bar"
           }
          ],
          "scattergeo": [
           {
            "type": "scattergeo",
            "marker": {
             "colorbar": {
              "outlinewidth": 0,
              "ticks": ""
             }
            }
           }
          ],
          "scatterpolar": [
           {
            "type": "scatterpolar",
            "marker": {
             "colorbar": {
              "outlinewidth": 0,
              "ticks": ""
             }
            }
           }
          ],
          "histogram": [
           {
            "marker": {
             "pattern": {
              "fillmode": "overlay",
              "size": 10,
              "solidity": 0.2
             }
            },
            "type": "histogram"
           }
          ],
          "scattergl": [
           {
            "type": "scattergl",
            "marker": {
             "colorbar": {
              "outlinewidth": 0,
              "ticks": ""
             }
            }
           }
          ],
          "scatter3d": [
           {
            "type": "scatter3d",
            "line": {
             "colorbar": {
              "outlinewidth": 0,
              "ticks": ""
             }
            },
            "marker": {
             "colorbar": {
              "outlinewidth": 0,
              "ticks": ""
             }
            }
           }
          ],
          "scattermapbox": [
           {
            "type": "scattermapbox",
            "marker": {
             "colorbar": {
              "outlinewidth": 0,
              "ticks": ""
             }
            }
           }
          ],
          "scatterternary": [
           {
            "type": "scatterternary",
            "marker": {
             "colorbar": {
              "outlinewidth": 0,
              "ticks": ""
             }
            }
           }
          ],
          "scattercarpet": [
           {
            "type": "scattercarpet",
            "marker": {
             "colorbar": {
              "outlinewidth": 0,
              "ticks": ""
             }
            }
           }
          ],
          "carpet": [
           {
            "aaxis": {
             "endlinecolor": "#2a3f5f",
             "gridcolor": "white",
             "linecolor": "white",
             "minorgridcolor": "white",
             "startlinecolor": "#2a3f5f"
            },
            "baxis": {
             "endlinecolor": "#2a3f5f",
             "gridcolor": "white",
             "linecolor": "white",
             "minorgridcolor": "white",
             "startlinecolor": "#2a3f5f"
            },
            "type": "carpet"
           }
          ],
          "table": [
           {
            "cells": {
             "fill": {
              "color": "#EBF0F8"
             },
             "line": {
              "color": "white"
             }
            },
            "header": {
             "fill": {
              "color": "#C8D4E3"
             },
             "line": {
              "color": "white"
             }
            },
            "type": "table"
           }
          ],
          "barpolar": [
           {
            "marker": {
             "line": {
              "color": "#E5ECF6",
              "width": 0.5
             },
             "pattern": {
              "fillmode": "overlay",
              "size": 10,
              "solidity": 0.2
             }
            },
            "type": "barpolar"
           }
          ],
          "pie": [
           {
            "automargin": true,
            "type": "pie"
           }
          ]
         },
         "layout": {
          "autotypenumbers": "strict",
          "colorway": [
           "#636efa",
           "#EF553B",
           "#00cc96",
           "#ab63fa",
           "#FFA15A",
           "#19d3f3",
           "#FF6692",
           "#B6E880",
           "#FF97FF",
           "#FECB52"
          ],
          "font": {
           "color": "#2a3f5f"
          },
          "hovermode": "closest",
          "hoverlabel": {
           "align": "left"
          },
          "paper_bgcolor": "white",
          "plot_bgcolor": "#E5ECF6",
          "polar": {
           "bgcolor": "#E5ECF6",
           "angularaxis": {
            "gridcolor": "white",
            "linecolor": "white",
            "ticks": ""
           },
           "radialaxis": {
            "gridcolor": "white",
            "linecolor": "white",
            "ticks": ""
           }
          },
          "ternary": {
           "bgcolor": "#E5ECF6",
           "aaxis": {
            "gridcolor": "white",
            "linecolor": "white",
            "ticks": ""
           },
           "baxis": {
            "gridcolor": "white",
            "linecolor": "white",
            "ticks": ""
           },
           "caxis": {
            "gridcolor": "white",
            "linecolor": "white",
            "ticks": ""
           }
          },
          "coloraxis": {
           "colorbar": {
            "outlinewidth": 0,
            "ticks": ""
           }
          },
          "colorscale": {
           "sequential": [
            [
             0.0,
             "#0d0887"
            ],
            [
             0.1111111111111111,
             "#46039f"
            ],
            [
             0.2222222222222222,
             "#7201a8"
            ],
            [
             0.3333333333333333,
             "#9c179e"
            ],
            [
             0.4444444444444444,
             "#bd3786"
            ],
            [
             0.5555555555555556,
             "#d8576b"
            ],
            [
             0.6666666666666666,
             "#ed7953"
            ],
            [
             0.7777777777777778,
             "#fb9f3a"
            ],
            [
             0.8888888888888888,
             "#fdca26"
            ],
            [
             1.0,
             "#f0f921"
            ]
           ],
           "sequentialminus": [
            [
             0.0,
             "#0d0887"
            ],
            [
             0.1111111111111111,
             "#46039f"
            ],
            [
             0.2222222222222222,
             "#7201a8"
            ],
            [
             0.3333333333333333,
             "#9c179e"
            ],
            [
             0.4444444444444444,
             "#bd3786"
            ],
            [
             0.5555555555555556,
             "#d8576b"
            ],
            [
             0.6666666666666666,
             "#ed7953"
            ],
            [
             0.7777777777777778,
             "#fb9f3a"
            ],
            [
             0.8888888888888888,
             "#fdca26"
            ],
            [
             1.0,
             "#f0f921"
            ]
           ],
           "diverging": [
            [
             0,
             "#8e0152"
            ],
            [
             0.1,
             "#c51b7d"
            ],
            [
             0.2,
             "#de77ae"
            ],
            [
             0.3,
             "#f1b6da"
            ],
            [
             0.4,
             "#fde0ef"
            ],
            [
             0.5,
             "#f7f7f7"
            ],
            [
             0.6,
             "#e6f5d0"
            ],
            [
             0.7,
             "#b8e186"
            ],
            [
             0.8,
             "#7fbc41"
            ],
            [
             0.9,
             "#4d9221"
            ],
            [
             1,
             "#276419"
            ]
           ]
          },
          "xaxis": {
           "gridcolor": "white",
           "linecolor": "white",
           "ticks": "",
           "title": {
            "standoff": 15
           },
           "zerolinecolor": "white",
           "automargin": true,
           "zerolinewidth": 2
          },
          "yaxis": {
           "gridcolor": "white",
           "linecolor": "white",
           "ticks": "",
           "title": {
            "standoff": 15
           },
           "zerolinecolor": "white",
           "automargin": true,
           "zerolinewidth": 2
          },
          "scene": {
           "xaxis": {
            "backgroundcolor": "#E5ECF6",
            "gridcolor": "white",
            "linecolor": "white",
            "showbackground": true,
            "ticks": "",
            "zerolinecolor": "white",
            "gridwidth": 2
           },
           "yaxis": {
            "backgroundcolor": "#E5ECF6",
            "gridcolor": "white",
            "linecolor": "white",
            "showbackground": true,
            "ticks": "",
            "zerolinecolor": "white",
            "gridwidth": 2
           },
           "zaxis": {
            "backgroundcolor": "#E5ECF6",
            "gridcolor": "white",
            "linecolor": "white",
            "showbackground": true,
            "ticks": "",
            "zerolinecolor": "white",
            "gridwidth": 2
           }
          },
          "shapedefaults": {
           "line": {
            "color": "#2a3f5f"
           }
          },
          "annotationdefaults": {
           "arrowcolor": "#2a3f5f",
           "arrowhead": 0,
           "arrowwidth": 1
          },
          "geo": {
           "bgcolor": "white",
           "landcolor": "#E5ECF6",
           "subunitcolor": "white",
           "showland": true,
           "showlakes": true,
           "lakecolor": "white"
          },
          "title": {
           "x": 0.05
          },
          "mapbox": {
           "style": "light"
          }
         }
        },
        "xaxis": {
         "anchor": "y",
         "domain": [
          0.0,
          0.94
         ],
         "title": {
          "text": "Discount"
         }
        },
        "yaxis": {
         "anchor": "x",
         "domain": [
          0.0,
          1.0
         ],
         "title": {
          "text": "Profits"
         }
        },
        "yaxis2": {
         "anchor": "x",
         "overlaying": "y",
         "side": "right",
         "title": {
          "text": "Quantity"
         }
        },
        "title": {
         "text": "Discount effects on sales"
        }
       },
       "config": {
        "plotlyServerURL": "https://plot.ly"
       }
      },
      "text/html": [
       "<div>                            <div id=\"14c7e761-55fd-4aa2-95c4-205637a2b00e\" class=\"plotly-graph-div\" style=\"height:525px; width:100%;\"></div>            <script type=\"text/javascript\">                require([\"plotly\"], function(Plotly) {                    window.PLOTLYENV=window.PLOTLYENV || {};                                    if (document.getElementById(\"14c7e761-55fd-4aa2-95c4-205637a2b00e\")) {                    Plotly.newPlot(                        \"14c7e761-55fd-4aa2-95c4-205637a2b00e\",                        [{\"name\":\"yaxis data\",\"x\":[0.1,0.15,0.2,0.3,0.32,0.4,0.45,0.5,0.6,0.7,0.8],\"y\":[1043295.5342,29621.602299999995,4462.588399999998,291052.1217999999,-33596.2729,-7969.805700000003,-74384.77490000002,-8095.9800000000005,-65406.369300000006,-19325.2029,-131056.1373,-95988.04910000002],\"type\":\"scatter\",\"xaxis\":\"x\",\"yaxis\":\"y\"},{\"name\":\"yaxis2 data\",\"x\":[0.1,0.15,0.2,0.3,0.32,0.4,0.45,0.5,0.6,0.7,0.8],\"y\":[59684,1234,636,44181,2733,345,2515,144,772,1720,5370,3826],\"type\":\"scatter\",\"xaxis\":\"x\",\"yaxis\":\"y2\"}],                        {\"template\":{\"data\":{\"histogram2dcontour\":[{\"type\":\"histogram2dcontour\",\"colorbar\":{\"outlinewidth\":0,\"ticks\":\"\"},\"colorscale\":[[0.0,\"#0d0887\"],[0.1111111111111111,\"#46039f\"],[0.2222222222222222,\"#7201a8\"],[0.3333333333333333,\"#9c179e\"],[0.4444444444444444,\"#bd3786\"],[0.5555555555555556,\"#d8576b\"],[0.6666666666666666,\"#ed7953\"],[0.7777777777777778,\"#fb9f3a\"],[0.8888888888888888,\"#fdca26\"],[1.0,\"#f0f921\"]]}],\"choropleth\":[{\"type\":\"choropleth\",\"colorbar\":{\"outlinewidth\":0,\"ticks\":\"\"}}],\"histogram2d\":[{\"type\":\"histogram2d\",\"colorbar\":{\"outlinewidth\":0,\"ticks\":\"\"},\"colorscale\":[[0.0,\"#0d0887\"],[0.1111111111111111,\"#46039f\"],[0.2222222222222222,\"#7201a8\"],[0.3333333333333333,\"#9c179e\"],[0.4444444444444444,\"#bd3786\"],[0.5555555555555556,\"#d8576b\"],[0.6666666666666666,\"#ed7953\"],[0.7777777777777778,\"#fb9f3a\"],[0.8888888888888888,\"#fdca26\"],[1.0,\"#f0f921\"]]}],\"heatmap\":[{\"type\":\"heatmap\",\"colorbar\":{\"outlinewidth\":0,\"ticks\":\"\"},\"colorscale\":[[0.0,\"#0d0887\"],[0.1111111111111111,\"#46039f\"],[0.2222222222222222,\"#7201a8\"],[0.3333333333333333,\"#9c179e\"],[0.4444444444444444,\"#bd3786\"],[0.5555555555555556,\"#d8576b\"],[0.6666666666666666,\"#ed7953\"],[0.7777777777777778,\"#fb9f3a\"],[0.8888888888888888,\"#fdca26\"],[1.0,\"#f0f921\"]]}],\"heatmapgl\":[{\"type\":\"heatmapgl\",\"colorbar\":{\"outlinewidth\":0,\"ticks\":\"\"},\"colorscale\":[[0.0,\"#0d0887\"],[0.1111111111111111,\"#46039f\"],[0.2222222222222222,\"#7201a8\"],[0.3333333333333333,\"#9c179e\"],[0.4444444444444444,\"#bd3786\"],[0.5555555555555556,\"#d8576b\"],[0.6666666666666666,\"#ed7953\"],[0.7777777777777778,\"#fb9f3a\"],[0.8888888888888888,\"#fdca26\"],[1.0,\"#f0f921\"]]}],\"contourcarpet\":[{\"type\":\"contourcarpet\",\"colorbar\":{\"outlinewidth\":0,\"ticks\":\"\"}}],\"contour\":[{\"type\":\"contour\",\"colorbar\":{\"outlinewidth\":0,\"ticks\":\"\"},\"colorscale\":[[0.0,\"#0d0887\"],[0.1111111111111111,\"#46039f\"],[0.2222222222222222,\"#7201a8\"],[0.3333333333333333,\"#9c179e\"],[0.4444444444444444,\"#bd3786\"],[0.5555555555555556,\"#d8576b\"],[0.6666666666666666,\"#ed7953\"],[0.7777777777777778,\"#fb9f3a\"],[0.8888888888888888,\"#fdca26\"],[1.0,\"#f0f921\"]]}],\"surface\":[{\"type\":\"surface\",\"colorbar\":{\"outlinewidth\":0,\"ticks\":\"\"},\"colorscale\":[[0.0,\"#0d0887\"],[0.1111111111111111,\"#46039f\"],[0.2222222222222222,\"#7201a8\"],[0.3333333333333333,\"#9c179e\"],[0.4444444444444444,\"#bd3786\"],[0.5555555555555556,\"#d8576b\"],[0.6666666666666666,\"#ed7953\"],[0.7777777777777778,\"#fb9f3a\"],[0.8888888888888888,\"#fdca26\"],[1.0,\"#f0f921\"]]}],\"mesh3d\":[{\"type\":\"mesh3d\",\"colorbar\":{\"outlinewidth\":0,\"ticks\":\"\"}}],\"scatter\":[{\"fillpattern\":{\"fillmode\":\"overlay\",\"size\":10,\"solidity\":0.2},\"type\":\"scatter\"}],\"parcoords\":[{\"type\":\"parcoords\",\"line\":{\"colorbar\":{\"outlinewidth\":0,\"ticks\":\"\"}}}],\"scatterpolargl\":[{\"type\":\"scatterpolargl\",\"marker\":{\"colorbar\":{\"outlinewidth\":0,\"ticks\":\"\"}}}],\"bar\":[{\"error_x\":{\"color\":\"#2a3f5f\"},\"error_y\":{\"color\":\"#2a3f5f\"},\"marker\":{\"line\":{\"color\":\"#E5ECF6\",\"width\":0.5},\"pattern\":{\"fillmode\":\"overlay\",\"size\":10,\"solidity\":0.2}},\"type\":\"bar\"}],\"scattergeo\":[{\"type\":\"scattergeo\",\"marker\":{\"colorbar\":{\"outlinewidth\":0,\"ticks\":\"\"}}}],\"scatterpolar\":[{\"type\":\"scatterpolar\",\"marker\":{\"colorbar\":{\"outlinewidth\":0,\"ticks\":\"\"}}}],\"histogram\":[{\"marker\":{\"pattern\":{\"fillmode\":\"overlay\",\"size\":10,\"solidity\":0.2}},\"type\":\"histogram\"}],\"scattergl\":[{\"type\":\"scattergl\",\"marker\":{\"colorbar\":{\"outlinewidth\":0,\"ticks\":\"\"}}}],\"scatter3d\":[{\"type\":\"scatter3d\",\"line\":{\"colorbar\":{\"outlinewidth\":0,\"ticks\":\"\"}},\"marker\":{\"colorbar\":{\"outlinewidth\":0,\"ticks\":\"\"}}}],\"scattermapbox\":[{\"type\":\"scattermapbox\",\"marker\":{\"colorbar\":{\"outlinewidth\":0,\"ticks\":\"\"}}}],\"scatterternary\":[{\"type\":\"scatterternary\",\"marker\":{\"colorbar\":{\"outlinewidth\":0,\"ticks\":\"\"}}}],\"scattercarpet\":[{\"type\":\"scattercarpet\",\"marker\":{\"colorbar\":{\"outlinewidth\":0,\"ticks\":\"\"}}}],\"carpet\":[{\"aaxis\":{\"endlinecolor\":\"#2a3f5f\",\"gridcolor\":\"white\",\"linecolor\":\"white\",\"minorgridcolor\":\"white\",\"startlinecolor\":\"#2a3f5f\"},\"baxis\":{\"endlinecolor\":\"#2a3f5f\",\"gridcolor\":\"white\",\"linecolor\":\"white\",\"minorgridcolor\":\"white\",\"startlinecolor\":\"#2a3f5f\"},\"type\":\"carpet\"}],\"table\":[{\"cells\":{\"fill\":{\"color\":\"#EBF0F8\"},\"line\":{\"color\":\"white\"}},\"header\":{\"fill\":{\"color\":\"#C8D4E3\"},\"line\":{\"color\":\"white\"}},\"type\":\"table\"}],\"barpolar\":[{\"marker\":{\"line\":{\"color\":\"#E5ECF6\",\"width\":0.5},\"pattern\":{\"fillmode\":\"overlay\",\"size\":10,\"solidity\":0.2}},\"type\":\"barpolar\"}],\"pie\":[{\"automargin\":true,\"type\":\"pie\"}]},\"layout\":{\"autotypenumbers\":\"strict\",\"colorway\":[\"#636efa\",\"#EF553B\",\"#00cc96\",\"#ab63fa\",\"#FFA15A\",\"#19d3f3\",\"#FF6692\",\"#B6E880\",\"#FF97FF\",\"#FECB52\"],\"font\":{\"color\":\"#2a3f5f\"},\"hovermode\":\"closest\",\"hoverlabel\":{\"align\":\"left\"},\"paper_bgcolor\":\"white\",\"plot_bgcolor\":\"#E5ECF6\",\"polar\":{\"bgcolor\":\"#E5ECF6\",\"angularaxis\":{\"gridcolor\":\"white\",\"linecolor\":\"white\",\"ticks\":\"\"},\"radialaxis\":{\"gridcolor\":\"white\",\"linecolor\":\"white\",\"ticks\":\"\"}},\"ternary\":{\"bgcolor\":\"#E5ECF6\",\"aaxis\":{\"gridcolor\":\"white\",\"linecolor\":\"white\",\"ticks\":\"\"},\"baxis\":{\"gridcolor\":\"white\",\"linecolor\":\"white\",\"ticks\":\"\"},\"caxis\":{\"gridcolor\":\"white\",\"linecolor\":\"white\",\"ticks\":\"\"}},\"coloraxis\":{\"colorbar\":{\"outlinewidth\":0,\"ticks\":\"\"}},\"colorscale\":{\"sequential\":[[0.0,\"#0d0887\"],[0.1111111111111111,\"#46039f\"],[0.2222222222222222,\"#7201a8\"],[0.3333333333333333,\"#9c179e\"],[0.4444444444444444,\"#bd3786\"],[0.5555555555555556,\"#d8576b\"],[0.6666666666666666,\"#ed7953\"],[0.7777777777777778,\"#fb9f3a\"],[0.8888888888888888,\"#fdca26\"],[1.0,\"#f0f921\"]],\"sequentialminus\":[[0.0,\"#0d0887\"],[0.1111111111111111,\"#46039f\"],[0.2222222222222222,\"#7201a8\"],[0.3333333333333333,\"#9c179e\"],[0.4444444444444444,\"#bd3786\"],[0.5555555555555556,\"#d8576b\"],[0.6666666666666666,\"#ed7953\"],[0.7777777777777778,\"#fb9f3a\"],[0.8888888888888888,\"#fdca26\"],[1.0,\"#f0f921\"]],\"diverging\":[[0,\"#8e0152\"],[0.1,\"#c51b7d\"],[0.2,\"#de77ae\"],[0.3,\"#f1b6da\"],[0.4,\"#fde0ef\"],[0.5,\"#f7f7f7\"],[0.6,\"#e6f5d0\"],[0.7,\"#b8e186\"],[0.8,\"#7fbc41\"],[0.9,\"#4d9221\"],[1,\"#276419\"]]},\"xaxis\":{\"gridcolor\":\"white\",\"linecolor\":\"white\",\"ticks\":\"\",\"title\":{\"standoff\":15},\"zerolinecolor\":\"white\",\"automargin\":true,\"zerolinewidth\":2},\"yaxis\":{\"gridcolor\":\"white\",\"linecolor\":\"white\",\"ticks\":\"\",\"title\":{\"standoff\":15},\"zerolinecolor\":\"white\",\"automargin\":true,\"zerolinewidth\":2},\"scene\":{\"xaxis\":{\"backgroundcolor\":\"#E5ECF6\",\"gridcolor\":\"white\",\"linecolor\":\"white\",\"showbackground\":true,\"ticks\":\"\",\"zerolinecolor\":\"white\",\"gridwidth\":2},\"yaxis\":{\"backgroundcolor\":\"#E5ECF6\",\"gridcolor\":\"white\",\"linecolor\":\"white\",\"showbackground\":true,\"ticks\":\"\",\"zerolinecolor\":\"white\",\"gridwidth\":2},\"zaxis\":{\"backgroundcolor\":\"#E5ECF6\",\"gridcolor\":\"white\",\"linecolor\":\"white\",\"showbackground\":true,\"ticks\":\"\",\"zerolinecolor\":\"white\",\"gridwidth\":2}},\"shapedefaults\":{\"line\":{\"color\":\"#2a3f5f\"}},\"annotationdefaults\":{\"arrowcolor\":\"#2a3f5f\",\"arrowhead\":0,\"arrowwidth\":1},\"geo\":{\"bgcolor\":\"white\",\"landcolor\":\"#E5ECF6\",\"subunitcolor\":\"white\",\"showland\":true,\"showlakes\":true,\"lakecolor\":\"white\"},\"title\":{\"x\":0.05},\"mapbox\":{\"style\":\"light\"}}},\"xaxis\":{\"anchor\":\"y\",\"domain\":[0.0,0.94],\"title\":{\"text\":\"Discount\"}},\"yaxis\":{\"anchor\":\"x\",\"domain\":[0.0,1.0],\"title\":{\"text\":\"Profits\"}},\"yaxis2\":{\"anchor\":\"x\",\"overlaying\":\"y\",\"side\":\"right\",\"title\":{\"text\":\"Quantity\"}},\"title\":{\"text\":\"Discount effects on sales\"}},                        {\"responsive\": true}                    ).then(function(){\n",
       "                            \n",
       "var gd = document.getElementById('14c7e761-55fd-4aa2-95c4-205637a2b00e');\n",
       "var x = new MutationObserver(function (mutations, observer) {{\n",
       "        var display = window.getComputedStyle(gd).display;\n",
       "        if (!display || display === 'none') {{\n",
       "            console.log([gd, 'removed!']);\n",
       "            Plotly.purge(gd);\n",
       "            observer.disconnect();\n",
       "        }}\n",
       "}});\n",
       "\n",
       "// Listen for the removal of the full notebook cells\n",
       "var notebookContainer = gd.closest('#notebook-container');\n",
       "if (notebookContainer) {{\n",
       "    x.observe(notebookContainer, {childList: true});\n",
       "}}\n",
       "\n",
       "// Listen for the clearing of the current output cell\n",
       "var outputEl = gd.closest('.output');\n",
       "if (outputEl) {{\n",
       "    x.observe(outputEl, {childList: true});\n",
       "}}\n",
       "\n",
       "                        })                };                });            </script>        </div>"
      ]
     },
     "metadata": {},
     "output_type": "display_data"
    }
   ],
   "execution_count": 75
  },
  {
   "metadata": {},
   "cell_type": "code",
   "outputs": [],
   "execution_count": null,
   "source": "",
   "id": "5c204d0f77bef586"
  }
 ],
 "metadata": {
  "kernelspec": {
   "display_name": "Python 3",
   "language": "python",
   "name": "python3"
  },
  "language_info": {
   "codemirror_mode": {
    "name": "ipython",
    "version": 2
   },
   "file_extension": ".py",
   "mimetype": "text/x-python",
   "name": "python",
   "nbconvert_exporter": "python",
   "pygments_lexer": "ipython2",
   "version": "2.7.6"
  }
 },
 "nbformat": 4,
 "nbformat_minor": 5
}
